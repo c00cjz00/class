{
 "cells": [
  {
   "cell_type": "markdown",
   "id": "12c7ba09-bd42-4147-b1a5-9b91a1cf2be9",
   "metadata": {},
   "source": [
    "# Retrievers\n",
    "- https://python.langchain.com/docs/integrations/retrievers/"
   ]
  },
  {
   "cell_type": "markdown",
   "id": "bdd1d00b-d7e6-47ca-8994-4492acb386ae",
   "metadata": {},
   "source": [
    "## ArxivRetriever\n",
    "- https://python.langchain.com/docs/integrations/retrievers/arxiv/"
   ]
  },
  {
   "cell_type": "code",
   "execution_count": null,
   "id": "d85e05db-0e04-4efa-ae66-105f34446d59",
   "metadata": {},
   "outputs": [],
   "source": [
    "!uv pip install -qU langchain-community arxiv"
   ]
  },
  {
   "cell_type": "code",
   "execution_count": null,
   "id": "1aea8c5b-16bc-4b7b-ab3b-e3751a48d360",
   "metadata": {},
   "outputs": [],
   "source": [
    "from langchain_community.retrievers import ArxivRetriever\n",
    "\n",
    "retriever = ArxivRetriever(\n",
    "    load_max_docs=2,\n",
    "    get_ful_documents=True,\n",
    ")"
   ]
  },
  {
   "cell_type": "code",
   "execution_count": null,
   "id": "d6492380-3301-4a6f-b934-93044d737814",
   "metadata": {},
   "outputs": [],
   "source": [
    "docs = retriever.invoke(\"1605.08386\")\n",
    "docs[0].metadata  # meta-information of the Document"
   ]
  },
  {
   "cell_type": "code",
   "execution_count": null,
   "id": "626fa7ec-7332-41a1-88f5-fe8f793a5802",
   "metadata": {},
   "outputs": [],
   "source": [
    "docs[0].page_content[:400]  # a content of the Document"
   ]
  },
  {
   "cell_type": "code",
   "execution_count": null,
   "id": "851c5c54-d7e0-4b1c-a3e2-3313aa4955be",
   "metadata": {},
   "outputs": [],
   "source": [
    "docs = retriever.invoke(\"What is the ImageBind model?\")\n",
    "docs[1].metadata  # meta-information of the Document"
   ]
  },
  {
   "cell_type": "code",
   "execution_count": null,
   "id": "493b6139-ecd9-4f62-972f-6e2962ec9585",
   "metadata": {},
   "outputs": [],
   "source": [
    "docs[1].page_content[:400]  # a content of the Document"
   ]
  },
  {
   "cell_type": "code",
   "execution_count": null,
   "id": "614754c4-6682-47ce-b3eb-d9a53c2925e8",
   "metadata": {},
   "outputs": [],
   "source": [
    "# 顯示每篇文件的 metadata\n",
    "for i, doc in enumerate(docs):\n",
    "    print(f\"\\n[Doc {i+1}] Metadata:\")\n",
    "    for key, value in doc.metadata.items():\n",
    "        print(f\"  {key}: {value}\")"
   ]
  },
  {
   "cell_type": "markdown",
   "id": "71603cc0-71cc-40b6-b8ad-72373f0f6cbd",
   "metadata": {},
   "source": [
    "# chain"
   ]
  },
  {
   "cell_type": "code",
   "execution_count": null,
   "id": "3896971b-5e30-4c1a-8c0f-987fd1f1013c",
   "metadata": {},
   "outputs": [],
   "source": [
    "# chain\n",
    "# https://build.nvidia.com/deepseek-ai/deepseek-r1\n",
    "# nvapi-xxx\n",
    "import getpass\n",
    "import os\n",
    "if not os.environ.get(\"NVIDIA_API_KEY\"):\n",
    "  os.environ[\"NVIDIA_API_KEY\"] = getpass.getpass(\"Enter API key for NVIDIA: \")\n",
    "\n",
    "from langchain.chat_models import init_chat_model\n",
    "llm = init_chat_model(\"meta/llama-4-maverick-17b-128e-instruct\", model_provider=\"nvidia\")"
   ]
  },
  {
   "cell_type": "code",
   "execution_count": null,
   "id": "6c5e8706-e0f6-4909-a6a9-f88bc5227814",
   "metadata": {},
   "outputs": [],
   "source": [
    "from langchain.chains import create_retrieval_chain\n",
    "from langchain.chains.combine_documents import create_stuff_documents_chain\n",
    "from langchain_core.prompts import ChatPromptTemplate\n",
    "from langchain_community.retrievers import ArxivRetriever\n",
    "\n",
    "\n",
    "retriever = ArxivRetriever(load_max_docs=2, get_ful_documents=True)\n",
    "\n",
    "system_prompt = (\n",
    "    \"Use the given context to answer the question. \"\n",
    "    \"If you don't know the answer, say you don't know. \"\n",
    "    \"Use three sentence maximum and keep the answer concise. \"\n",
    "    \"Context: {context}\"\n",
    ")\n",
    "\n",
    "prompt = ChatPromptTemplate.from_messages(\n",
    "    [\n",
    "        (\"system\", system_prompt),\n",
    "        (\"human\", \"{input}\"),\n",
    "    ]\n",
    ")\n",
    "question_answer_chain = create_stuff_documents_chain(llm, prompt)\n",
    "chain = create_retrieval_chain(retriever, question_answer_chain)\n",
    "query = \"What is the ImageBind model?\"\n",
    "chain.invoke({\"input\": query})\n"
   ]
  },
  {
   "cell_type": "markdown",
   "id": "46d311bb-af86-40e0-a33c-e5863e489804",
   "metadata": {},
   "source": [
    "##   作業\n",
    "\n",
    "**擴展檢索鏈 (Retrieval Chain)**\n",
    "\n",
    "Notebook 中創建了一個基本的檢索鏈，將 ArxivRetriever 和 LLM 連接起來回答問題。\n",
    "\n",
    "1.  **基本功能：**\n",
    "    * 在 notebook 的基礎上，擴展檢索鏈的功能，使其更加實用。\n",
    "\n",
    "2.  **擴展方向（選擇至少兩項）：**\n",
    "    * **文件篩選：** 讓使用者可以根據作者、日期、關鍵字等條件篩選文獻。\n",
    "    * **摘要生成：** 自動總結檢索到的文獻內容。\n",
    "    * **多源檢索：** 整合多個 Retriever，從不同來源檢索資訊 (例如 Arxiv、Web、自訂資料庫)。\n",
    "    * **結果排序：** 根據相關性對檢索結果進行排序和評分。\n",
    "    * **複雜查詢處理：** 處理包含多個關鍵字和條件的查詢。\n",
    "\n",
    "**評估標準：**\n",
    "\n",
    "* 檢索鏈是否能夠正確檢索並呈現相關文獻？ (50%)\n",
    "* 擴展功能是否能夠有效提升檢索的實用性？ (50%)\n",
    "\n"
   ]
  },
  {
   "cell_type": "code",
   "execution_count": null,
   "id": "3cbe8ec6-0f65-4261-9c11-a470a9156101",
   "metadata": {},
   "outputs": [],
   "source": []
  }
 ],
 "metadata": {
  "kernelspec": {
   "display_name": "Python 3 (ipykernel)",
   "language": "python",
   "name": "python3"
  },
  "language_info": {
   "codemirror_mode": {
    "name": "ipython",
    "version": 3
   },
   "file_extension": ".py",
   "mimetype": "text/x-python",
   "name": "python",
   "nbconvert_exporter": "python",
   "pygments_lexer": "ipython3",
   "version": "3.11.12"
  }
 },
 "nbformat": 4,
 "nbformat_minor": 5
}

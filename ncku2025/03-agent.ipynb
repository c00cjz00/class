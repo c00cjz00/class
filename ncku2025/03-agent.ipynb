{
 "cells": [
  {
   "cell_type": "markdown",
   "id": "e6d2af97-28f5-46c2-a1a9-5589c26371e9",
   "metadata": {},
   "source": [
    "# Agent Tools\n",
    "- https://python.langchain.com/docs/tutorials/agents/ \n",
    "- https://python.langchain.com/docs/integrations/tools/"
   ]
  },
  {
   "cell_type": "code",
   "execution_count": null,
   "id": "d115a829-202a-4c7e-8605-4eb4bb9b0944",
   "metadata": {},
   "outputs": [],
   "source": [
    "# llm模型設定\n",
    "# https://build.nvidia.com/deepseek-ai/deepseek-r1\n",
    "# nvapi-\n",
    "import getpass\n",
    "import os\n",
    "if not os.environ.get(\"NVIDIA_API_KEY\"):\n",
    "  os.environ[\"NVIDIA_API_KEY\"] = getpass.getpass(\"Enter API key for NVIDIA: \")"
   ]
  },
  {
   "cell_type": "code",
   "execution_count": null,
   "id": "106d380c-8770-4b24-9451-a44054daa9cc",
   "metadata": {},
   "outputs": [],
   "source": [
    "!uv pip install -qU \"langchain-nvidia-ai-endpoints\""
   ]
  },
  {
   "cell_type": "code",
   "execution_count": null,
   "id": "6e5ffd78-6fb6-4c89-9d9d-eb29e3f1eece",
   "metadata": {},
   "outputs": [],
   "source": [
    "## 模型來源\n",
    "# https://build.nvidia.com/deepseek-ai\n",
    "# https://build.nvidia.com/meta\n",
    "# https://build.nvidia.com/google\n",
    "# https://build.nvidia.com/qwen\n",
    "\n",
    "from langchain.chat_models import init_chat_model\n",
    "llm = init_chat_model(\"meta/llama-4-maverick-17b-128e-instruct\", model_provider=\"nvidia\")"
   ]
  },
  {
   "cell_type": "code",
   "execution_count": null,
   "id": "a83b8f73-70fc-46b1-b968-999f93c2d120",
   "metadata": {
    "scrolled": true
   },
   "outputs": [],
   "source": [
    "# 工具列表\n",
    "from langchain.agents import get_all_tool_names\n",
    "get_all_tool_names()"
   ]
  },
  {
   "cell_type": "code",
   "execution_count": null,
   "id": "117f4357-3b75-4684-ab41-31a0dadd2949",
   "metadata": {},
   "outputs": [],
   "source": [
    "# llm模型設定\n",
    "# https://openweathermap.org/\n",
    "# b57\n",
    "import getpass\n",
    "import os\n",
    "if not os.environ.get(\"OPENWEATHERMAP_API_KEY\"):\n",
    "  os.environ[\"OPENWEATHERMAP_API_KEY\"] = getpass.getpass(\"Enter API key for OPENWEATHERMAP_API_KEY: \")"
   ]
  },
  {
   "cell_type": "code",
   "execution_count": null,
   "id": "3bfde2b9-b110-439a-831e-3ab3b65765b1",
   "metadata": {},
   "outputs": [],
   "source": [
    "# llm模型設定\n",
    "# https://tavily.com/\n",
    "# tvly-\n",
    "import getpass\n",
    "import os\n",
    "if not os.environ.get(\"TAVILY_API_KEY\"):\n",
    "    os.environ[\"TAVILY_API_KEY\"] = getpass.getpass(\"Enter API key for TAVILY_API_KEY: \")"
   ]
  },
  {
   "cell_type": "code",
   "execution_count": null,
   "id": "5cb19904-28a1-4b6a-a5da-99f475e80967",
   "metadata": {},
   "outputs": [],
   "source": [
    "!uv pip install -qU \"pyowm\""
   ]
  },
  {
   "cell_type": "code",
   "execution_count": null,
   "id": "9b56933d-39de-4d47-a632-81eb482d5d6c",
   "metadata": {},
   "outputs": [],
   "source": [
    "import os\n",
    "from langchain.agents import AgentType, initialize_agent, load_tools\n",
    "tools = load_tools([\"openweathermap-api\"], llm)\n",
    "agent_chain = initialize_agent(\n",
    "    tools=tools, llm=llm, agent=AgentType.ZERO_SHOT_REACT_DESCRIPTION, verbose=True\n",
    ")"
   ]
  },
  {
   "cell_type": "code",
   "execution_count": null,
   "id": "cdffe207-5c63-4bb4-a23f-1180d9ca2719",
   "metadata": {},
   "outputs": [],
   "source": [
    "agent_chain.run(\"What's the weather like in London?\")"
   ]
  },
  {
   "cell_type": "code",
   "execution_count": null,
   "id": "0d199ce2-3445-43a5-b981-9ee3cfc020dc",
   "metadata": {},
   "outputs": [],
   "source": [
    "# 外部tools\n",
    "from langchain_community.tools.tavily_search import TavilySearchResults\n",
    "search = TavilySearchResults()\n",
    "tools = [search]\n",
    "agent_chain = initialize_agent(\n",
    "    tools=tools, llm=llm, agent=AgentType.ZERO_SHOT_REACT_DESCRIPTION, verbose=True\n",
    ")"
   ]
  },
  {
   "cell_type": "code",
   "execution_count": null,
   "id": "7932d88e-782a-4bc7-8713-7db488adabdf",
   "metadata": {},
   "outputs": [],
   "source": [
    "agent_chain.run(\"今天台灣新聞 白沙屯\")"
   ]
  },
  {
   "cell_type": "code",
   "execution_count": null,
   "id": "bc3fd3e7-a1c6-4379-8f84-e8ec82da14e5",
   "metadata": {},
   "outputs": [],
   "source": [
    "!uv pip install -U duckduckgo-search"
   ]
  },
  {
   "cell_type": "code",
   "execution_count": null,
   "id": "5e805d6e-128a-44dc-8198-39956f068f53",
   "metadata": {},
   "outputs": [],
   "source": [
    "# 混合 tools\n",
    "from langchain.agents import AgentType, initialize_agent, load_tools\n",
    "from langchain_community.tools.tavily_search import TavilySearchResults\n",
    "search = TavilySearchResults()\n",
    "tool_names_to_load = [\"ddg-search\"]\n",
    "loaded_named_tools = load_tools(tool_names_to_load, llm=llm)\n",
    "tools = loaded_named_tools + [search]\n",
    "agent_chain = initialize_agent(\n",
    "    tools=tools, llm=llm, agent=AgentType.ZERO_SHOT_REACT_DESCRIPTION, verbose=True\n",
    ")"
   ]
  },
  {
   "cell_type": "code",
   "execution_count": null,
   "id": "ee253651-2cb8-4a58-b45a-6cd39a725bc0",
   "metadata": {},
   "outputs": [],
   "source": [
    "agent_chain.run(\"今天台灣新聞 關於白沙屯, 及台中天氣\")"
   ]
  },
  {
   "cell_type": "markdown",
   "id": "7fa16cca-2916-4599-bf24-f83acc57656a",
   "metadata": {},
   "source": [
    "## 自建tools"
   ]
  },
  {
   "cell_type": "code",
   "execution_count": null,
   "id": "ab36eff0-29bc-47c6-b9de-ab4cd4ccd4fc",
   "metadata": {},
   "outputs": [],
   "source": [
    "from langchain.tools import tool\n",
    "\n",
    "@tool\n",
    "def get_weather(city: str) -> dict:\n",
    "    \"\"\"Get weather for a given city\"\"\"\n",
    "    print(f\"[TOOL] get_weather 被呼叫，城市：{city}\")    \n",
    "    return {\n",
    "        \"location\": city,\n",
    "        \"temperature\": \"23°C\",\n",
    "        \"condition\": \"Sunny ☀️\",\n",
    "        \"播報員\": \"mary\"\n",
    "    }\n",
    "\n"
   ]
  },
  {
   "cell_type": "code",
   "execution_count": null,
   "id": "f1d69adc-1f25-4252-b00d-6662f71bb73c",
   "metadata": {},
   "outputs": [],
   "source": [
    "!uv pip install pytz"
   ]
  },
  {
   "cell_type": "code",
   "execution_count": null,
   "id": "c1a67b3b-ebb4-49af-af60-cad9976ba1d9",
   "metadata": {},
   "outputs": [],
   "source": [
    "from langchain.tools import tool\n",
    "from datetime import datetime\n",
    "import pytz\n",
    "\n",
    "@tool\n",
    "def get_current_time(timezone: str) -> str:\n",
    "    \"\"\"根據時區取得目前的日期與時間。\"\"\"\n",
    "    try:\n",
    "        tz = pytz.timezone(timezone)\n",
    "        current_time = datetime.now(tz)\n",
    "        return current_time.strftime('%Y-%m-%d %H:%M:%S')\n",
    "    except pytz.UnknownTimeZoneError:\n",
    "        return f\"無法識別的時區: {timezone}\"\n"
   ]
  },
  {
   "cell_type": "code",
   "execution_count": null,
   "id": "124b40d0-eff5-482e-b502-42ff0812ab48",
   "metadata": {},
   "outputs": [],
   "source": [
    "#from tools_time import get_current_time  # 同時引入這兩個工具\n",
    "#from tools_openweather import get_openweather  # 同時引入這兩個工具\n",
    "\n",
    "tool_names_to_load = [\"ddg-search\"]\n",
    "loaded_named_tools = load_tools(tool_names_to_load, llm=llm)\n",
    "tools = loaded_named_tools + [get_weather, get_current_time]\n",
    "agent_chain = initialize_agent(\n",
    "    tools=tools, llm=llm, agent=AgentType.ZERO_SHOT_REACT_DESCRIPTION, verbose=True\n",
    ")"
   ]
  },
  {
   "cell_type": "code",
   "execution_count": null,
   "id": "c446e0e2-6bd2-4a66-8631-9ed20ba12ef9",
   "metadata": {},
   "outputs": [],
   "source": [
    "agent_chain.run(\"今天台中天氣及現在時間及白沙屯進度\")"
   ]
  },
  {
   "cell_type": "markdown",
   "id": "c40a3325-db65-4dd7-bf92-e46faeb7e8f8",
   "metadata": {},
   "source": [
    "## 作業\n",
    "1.  **Agent 建立與 API 整合：**\n",
    "    * 使用 Langchain 建立一個 Agent，並整合至少一個外部 API。\n",
    "    * 建議可考慮的 API 包括：\n",
    "        * 台灣高鐵 Open API：查詢時刻表、票價、剩餘座位等。\n",
    "        * 中央氣象局 Open API：查詢天氣預報、觀測資料等。\n",
    "        * Google Maps Platform API：查詢地點資訊、導航路線等。\n",
    "        * 金融監督管理委員會 Open API：查詢股票資訊、匯率資訊等。\n",
    "    * 你也可以選擇其他你感興趣的 API，但請在報告中說明其功能和應用情境。\n",
    "\n",
    "2.  **Agent 行為設計：**\n",
    "    * Agent 應分析使用者意圖，判斷是否需要呼叫外部 API 才能回答問題。\n",
    "    * 如果使用者詢問的資訊可以透過 API 取得，則 Agent 必須使用 API。\n",
    "    * 如果無法透過 API 取得，則 Agent 應嘗試使用 LLM 回答。\n",
    "    * Agent 應向使用者說明其使用的工具（API 或 LLM）以及原因。\n",
    "\n",
    "3.  **範例互動：**\n",
    "    * **範例輸入 1：**「請問明天早上從台北到左營的高鐵有哪些車次？」\n",
    "    * **範例輸出 1：**「我查詢了台灣高鐵 API，明天早上從台北到左營的高鐵車次有以下幾班：...」\n",
    "    * **範例輸入 2：**「台北 101 有多高？」\n",
    "    * **範例輸出 2：**「台北 101 的高度是 508 公尺。」（此資訊可能透過 LLM 或 Google Maps API 取得）\n",
    "\n",
    "4.  **進階功能（選做）：**\n",
    "    * 整合多個 API，回答更複雜的問題。\n",
    "    * 加入錯誤處理機制，提升 Agent 的健壯性。\n",
    "    * 讓 Agent 能夠處理需要多輪對話才能完成的任務。\n",
    "    * 設計一個簡單的使用者介面，讓使用者可以更方便地與 Agent 互動。\n",
    "\n",
    "**評估標準：**\n",
    "\n",
    "* Agent 是否能夠成功整合外部 API？ (40%)\n",
    "* Agent 是否能夠根據使用者意圖正確判斷是否使用 API？ (40%)\n",
    "* Agent 的回答是否準確、完整、符合使用者需求？ (20%)\n",
    "\n"
   ]
  },
  {
   "cell_type": "code",
   "execution_count": null,
   "id": "cdab97dc-2ec9-4b2e-89b8-a400ce77fa60",
   "metadata": {},
   "outputs": [],
   "source": []
  },
  {
   "cell_type": "markdown",
   "id": "c5385f97-0d69-4547-830d-026a70e449b5",
   "metadata": {},
   "source": []
  },
  {
   "cell_type": "code",
   "execution_count": null,
   "id": "01c03502-1828-4d8e-80de-438492f15715",
   "metadata": {},
   "outputs": [],
   "source": []
  }
 ],
 "metadata": {
  "kernelspec": {
   "display_name": "Python 3 (ipykernel)",
   "language": "python",
   "name": "python3"
  },
  "language_info": {
   "codemirror_mode": {
    "name": "ipython",
    "version": 3
   },
   "file_extension": ".py",
   "mimetype": "text/x-python",
   "name": "python",
   "nbconvert_exporter": "python",
   "pygments_lexer": "ipython3",
   "version": "3.11.12"
  }
 },
 "nbformat": 4,
 "nbformat_minor": 5
}

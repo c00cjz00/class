{
 "cells": [
  {
   "cell_type": "markdown",
   "id": "e6d2af97-28f5-46c2-a1a9-5589c26371e9",
   "metadata": {},
   "source": [
    "# Agent Tools\n",
    "- https://python.langchain.com/docs/tutorials/agents/ \n",
    "- https://python.langchain.com/docs/integrations/tools/"
   ]
  },
  {
   "cell_type": "code",
   "execution_count": 1,
   "id": "d115a829-202a-4c7e-8605-4eb4bb9b0944",
   "metadata": {},
   "outputs": [
    {
     "name": "stdin",
     "output_type": "stream",
     "text": [
      "Enter API key for NVIDIA:  ········\n"
     ]
    }
   ],
   "source": [
    "# llm模型設定\n",
    "# https://build.nvidia.com/deepseek-ai/deepseek-r1\n",
    "# nvapi-xxx\n",
    "import getpass\n",
    "import os\n",
    "if not os.environ.get(\"NVIDIA_API_KEY\"):\n",
    "  os.environ[\"NVIDIA_API_KEY\"] = getpass.getpass(\"Enter API key for NVIDIA: \")"
   ]
  },
  {
   "cell_type": "code",
   "execution_count": null,
   "id": "106d380c-8770-4b24-9451-a44054daa9cc",
   "metadata": {},
   "outputs": [],
   "source": [
    "!uv pip install -qU \"langchain-nvidia-ai-endpoints\""
   ]
  },
  {
   "cell_type": "code",
   "execution_count": 2,
   "id": "6e5ffd78-6fb6-4c89-9d9d-eb29e3f1eece",
   "metadata": {},
   "outputs": [
    {
     "name": "stderr",
     "output_type": "stream",
     "text": [
      "D:\\uv\\langchaing\\Lib\\site-packages\\langchain_nvidia_ai_endpoints\\_common.py:212: UserWarning: Found meta/llama-4-maverick-17b-128e-instruct in available_models, but type is unknown and inference may fail.\n",
      "  warnings.warn(\n"
     ]
    }
   ],
   "source": [
    "## 模型來源\n",
    "# https://build.nvidia.com/deepseek-ai\n",
    "# https://build.nvidia.com/meta\n",
    "# https://build.nvidia.com/google\n",
    "# https://build.nvidia.com/qwen\n",
    "\n",
    "from langchain.chat_models import init_chat_model\n",
    "llm = init_chat_model(\"meta/llama-4-maverick-17b-128e-instruct\", model_provider=\"nvidia\")"
   ]
  },
  {
   "cell_type": "code",
   "execution_count": 3,
   "id": "a83b8f73-70fc-46b1-b968-999f93c2d120",
   "metadata": {
    "scrolled": true
   },
   "outputs": [
    {
     "data": {
      "text/plain": [
       "['sleep',\n",
       " 'wolfram-alpha',\n",
       " 'google-search',\n",
       " 'google-search-results-json',\n",
       " 'searx-search-results-json',\n",
       " 'bing-search',\n",
       " 'metaphor-search',\n",
       " 'ddg-search',\n",
       " 'google-books',\n",
       " 'google-lens',\n",
       " 'google-serper',\n",
       " 'google-scholar',\n",
       " 'google-finance',\n",
       " 'google-trends',\n",
       " 'google-jobs',\n",
       " 'google-serper-results-json',\n",
       " 'searchapi',\n",
       " 'searchapi-results-json',\n",
       " 'serpapi',\n",
       " 'dalle-image-generator',\n",
       " 'twilio',\n",
       " 'searx-search',\n",
       " 'merriam-webster',\n",
       " 'wikipedia',\n",
       " 'arxiv',\n",
       " 'golden-query',\n",
       " 'pubmed',\n",
       " 'human',\n",
       " 'awslambda',\n",
       " 'stackexchange',\n",
       " 'sceneXplain',\n",
       " 'graphql',\n",
       " 'openweathermap-api',\n",
       " 'dataforseo-api-search',\n",
       " 'dataforseo-api-search-json',\n",
       " 'eleven_labs_text2speech',\n",
       " 'google_cloud_texttospeech',\n",
       " 'read_file',\n",
       " 'reddit_search',\n",
       " 'news-api',\n",
       " 'tmdb-api',\n",
       " 'podcast-api',\n",
       " 'memorize',\n",
       " 'llm-math',\n",
       " 'open-meteo-api',\n",
       " 'requests',\n",
       " 'requests_get',\n",
       " 'requests_post',\n",
       " 'requests_patch',\n",
       " 'requests_put',\n",
       " 'requests_delete',\n",
       " 'terminal']"
      ]
     },
     "execution_count": 3,
     "metadata": {},
     "output_type": "execute_result"
    }
   ],
   "source": [
    "# 工具列表\n",
    "from langchain.agents import get_all_tool_names\n",
    "get_all_tool_names()"
   ]
  },
  {
   "cell_type": "code",
   "execution_count": 18,
   "id": "117f4357-3b75-4684-ab41-31a0dadd2949",
   "metadata": {},
   "outputs": [],
   "source": [
    "# llm模型設定\n",
    "# https://build.nvidia.com/deepseek-ai/deepseek-r1\n",
    "# b578673-\n",
    "import getpass\n",
    "import os\n",
    "if not os.environ.get(\"OPENWEATHERMAP_API_KEY\"):\n",
    "  os.environ[\"OPENWEATHERMAP_API_KEY\"] = getpass.getpass(\"Enter API key for OPENWEATHERMAP_API_KEY: \")"
   ]
  },
  {
   "cell_type": "code",
   "execution_count": 20,
   "id": "3bfde2b9-b110-439a-831e-3ab3b65765b1",
   "metadata": {},
   "outputs": [],
   "source": [
    "# llm模型設定\n",
    "# https://build.nvidia.com/deepseek-ai/deepseek-r1\n",
    "# tvly-\n",
    "import getpass\n",
    "import os\n",
    "if not os.environ.get(\"TAVILY_API_KEY\"):\n",
    "    os.environ[\"TAVILY_API_KEY\"] = getpass.getpass(\"Enter API key for TAVILY_API_KEY: \")"
   ]
  },
  {
   "cell_type": "code",
   "execution_count": 9,
   "id": "5cb19904-28a1-4b6a-a5da-99f475e80967",
   "metadata": {},
   "outputs": [],
   "source": [
    "!uv pip install -qU \"pyowm\""
   ]
  },
  {
   "cell_type": "code",
   "execution_count": 10,
   "id": "9b56933d-39de-4d47-a632-81eb482d5d6c",
   "metadata": {},
   "outputs": [
    {
     "name": "stderr",
     "output_type": "stream",
     "text": [
      "C:\\Users\\c00cjz00\\AppData\\Local\\Temp\\ipykernel_11408\\1877082406.py:4: LangChainDeprecationWarning: LangChain agents will continue to be supported, but it is recommended for new use cases to be built with LangGraph. LangGraph offers a more flexible and full-featured framework for building agents, including support for tool-calling, persistence of state, and human-in-the-loop workflows. For details, refer to the `LangGraph documentation <https://langchain-ai.github.io/langgraph/>`_ as well as guides for `Migrating from AgentExecutor <https://python.langchain.com/docs/how_to/migrate_agent/>`_ and LangGraph's `Pre-built ReAct agent <https://langchain-ai.github.io/langgraph/how-tos/create-react-agent/>`_.\n",
      "  agent_chain = initialize_agent(\n"
     ]
    }
   ],
   "source": [
    "import os\n",
    "from langchain.agents import AgentType, initialize_agent, load_tools\n",
    "tools = load_tools([\"openweathermap-api\"], llm)\n",
    "agent_chain = initialize_agent(\n",
    "    tools=tools, llm=llm, agent=AgentType.ZERO_SHOT_REACT_DESCRIPTION, verbose=True\n",
    ")"
   ]
  },
  {
   "cell_type": "code",
   "execution_count": 11,
   "id": "cdffe207-5c63-4bb4-a23f-1180d9ca2719",
   "metadata": {},
   "outputs": [
    {
     "name": "stderr",
     "output_type": "stream",
     "text": [
      "C:\\Users\\c00cjz00\\AppData\\Local\\Temp\\ipykernel_11408\\437469771.py:1: LangChainDeprecationWarning: The method `Chain.run` was deprecated in langchain 0.1.0 and will be removed in 1.0. Use :meth:`~invoke` instead.\n",
      "  agent_chain.run(\"What's the weather like in London?\")\n"
     ]
    },
    {
     "name": "stdout",
     "output_type": "stream",
     "text": [
      "\n",
      "\n",
      "\u001b[1m> Entering new AgentExecutor chain...\u001b[0m\n",
      "\u001b[32;1m\u001b[1;3mTo determine the weather in London, I need to fetch the current weather information for London. The tool available for this purpose is the OpenWeatherMap API wrapper, which is accessed through the `open_weather_map` action.\n",
      "\n",
      "Action: open_weather_map\n",
      "Action Input: London,GB\u001b[0m\n",
      "Observation: \u001b[36;1m\u001b[1;3mIn London,GB, the current weather is as follows:\n",
      "Detailed status: broken clouds\n",
      "Wind speed: 4.63 m/s, direction: 20°\n",
      "Humidity: 51%\n",
      "Temperature: \n",
      "  - Current: 13.03°C\n",
      "  - High: 14.43°C\n",
      "  - Low: 12.23°C\n",
      "  - Feels like: 11.72°C\n",
      "Rain: {}\n",
      "Heat index: None\n",
      "Cloud cover: 75%\u001b[0m\n",
      "Thought:\u001b[32;1m\u001b[1;3mThought: The observation provides a detailed breakdown of the current weather in London, including temperature, humidity, wind speed, and cloud cover. To answer the question \"What's the weather like in London?\", I can summarize this information.\n",
      "\n",
      "Final Answer: The weather in London is mostly cloudy with broken clouds, a temperature of 13.03°C (feels like 11.72°C), wind speed of 4.63 m/s, and humidity at 51%.\u001b[0m\n",
      "\n",
      "\u001b[1m> Finished chain.\u001b[0m\n"
     ]
    },
    {
     "data": {
      "text/plain": [
       "'The weather in London is mostly cloudy with broken clouds, a temperature of 13.03°C (feels like 11.72°C), wind speed of 4.63 m/s, and humidity at 51%.'"
      ]
     },
     "execution_count": 11,
     "metadata": {},
     "output_type": "execute_result"
    }
   ],
   "source": [
    "agent_chain.run(\"What's the weather like in London?\")"
   ]
  },
  {
   "cell_type": "code",
   "execution_count": 13,
   "id": "0d199ce2-3445-43a5-b981-9ee3cfc020dc",
   "metadata": {},
   "outputs": [],
   "source": [
    "# 外部tools\n",
    "from langchain_community.tools.tavily_search import TavilySearchResults\n",
    "search = TavilySearchResults()\n",
    "tools = [search]\n",
    "agent_chain = initialize_agent(\n",
    "    tools=tools, llm=llm, agent=AgentType.ZERO_SHOT_REACT_DESCRIPTION, verbose=True\n",
    ")"
   ]
  },
  {
   "cell_type": "code",
   "execution_count": 14,
   "id": "7932d88e-782a-4bc7-8713-7db488adabdf",
   "metadata": {},
   "outputs": [
    {
     "name": "stdout",
     "output_type": "stream",
     "text": [
      "\n",
      "\n",
      "\u001b[1m> Entering new AgentExecutor chain...\u001b[0m\n",
      "\u001b[32;1m\u001b[1;3m我需要查詢今天台灣的新聞，並且與白沙屯相關。可以使用搜尋引擎來查詢最新的新聞。\n",
      "\n",
      "Action: tavily_search_results_json\n",
      "Action Input: 今天台灣新聞 白沙屯\u001b[0m\n",
      "Observation: \u001b[36;1m\u001b[1;3m[{'title': '【LIVE直播】凌晨進火完成隨即回鑾白沙屯媽祖返宮北上  中視新聞 ...', 'url': 'https://www.youtube.com/watch?v=cthaqYLbovw', 'content': '🔴【LIVE直播】凌晨進火完成隨即回鑾\\u3000白沙屯媽祖返宮北上│中視新聞 20250504 \\n 中視新聞 \\n 122 likes \\n 3663 views \\n 4 May 2025 \\n 白沙屯媽祖急行軍，3號下午一點多駐駕嘉義北港朝天宮後，4號凌晨隨即進行\"進火\"儀式，儀式完成隨即回鑾，白天後行進到哪，現場最新情形一起來關心。\\n\\n#白沙屯 #媽祖 #進火 #回鑾\\n###中視新聞 @中視新聞\\n\\n收看中視新聞，請鎖定新聞台154。\\n訂閱中視新聞24小時直播頻道，最新最快消息不斷線唷~\\nhttps://bit.ly/3bF2VwV\\n\\n⊕新 聞 焦 點⊕\\n今日十大發燒新聞→http://bit.ly/3n9VlKg\\n政治最前線→http://bit.ly/3n9Vq0w\\n生活大小事→http://bit.ly/3b3x4mQ\\n社會大代誌→http://bit.ly/3b78gdJ\\n好料看這裡→https://bit.ly/3lf63Pq\\n\\n⊕熱 門 節 目⊕ \\n庶民大頭家►https://bit.ly/3kb3kq7\\n地球那一端►https://bit.ly/3nfUbyh [...] ⊕中視全球資訊網 ⊕\\n中視新聞台HD直播頻道►http://bit.ly/28Or4iO\\n中視新聞YouTube頻道►http://bit.ly/27riGeN\\n中視新聞FB社群►http://bit.ly/28Ovhnh\\n中視全球資訊網►http://new.ctv.com.tw/ \\n 0 comments', 'score': 0.69672287}, {'title': '白沙屯媽祖今凌晨1時30分登轎數萬信眾簇擁下啟程回鑾 - 聯合報', 'url': 'https://udn.com/news/story/10906/8715850', 'content': '全產品速覽\\n\\n新聞評論\\n\\n服務\\n\\n股市理財\\n\\n生活娛樂\\n\\n運動\\n\\n閱讀創作\\n\\n文創購物\\n\\n更多產品\\n\\n我的頻道\\n\\n不滿「誰都能賣中藥」 藥師上凱道抗議：撤回解釋令\\n19:55\\n\\n白沙屯媽祖回鑾沒去嘉義新港成熱話題 拱天宮發話並說明原因\\n19:22\\n\\n白沙屯媽祖今凌晨1時30分登轎 數萬信眾簇擁下啟程回鑾\\n\\n\\n\\n\\n\\n苗栗白沙屯拱天宮媽祖徒步北港進香，今天凌晨0時45分完成進火儀式後登轎，在數萬香燈腳隨行下，浩浩蕩蕩踏上長達8天回鑾路程，原先傳出神轎在啟程後可能南下轉往嘉義，但龐大隊伍從朝天宮出廟後一路往北走，一路延綿長達約兩公里的人龍跪地鑽轎底，場面感人，隊伍預計5月11日下午3點45分返抵拱天宮。\\n\\n\\n\\n昨晚約9時30開始進行進香最重要的刈火儀式，由於今年報名的香燈腳多達33萬人，數十萬人的疏文，合計共達2千多張，在朝天宮法師經下，由拱天宮主委洪文華等人一張張投入正殿萬年香火的香爐中火化，預定今天凌晨起駕的時程稍受延誤。 [...] 神轎在萬眾呼聲中出廟後，轉往民主路、文化路一路往北方向前進，盡管夜已深更，但從離開朝天宮後一路上有成千上萬信徒跪地延綿長達兩三公里的人龍鑽轎底求平安，場面壯觀又感人，白沙屯媽祖北返路程長達8天，沿途可能會經過以往不曾去過的地方，民眾仍一路關切媽祖的行蹤。白沙屯媽祖今天凌晨萬眾歡送下起駕回鑾，深夜隨香人潮仍熱滾滾。記者蔡維斌／攝影白沙屯媽祖今天凌晨萬眾歡送下起駕回鑾，深夜仍人潮滾滾。記者蔡維斌／翻攝白沙屯媽祖今天凌晨萬眾歡送下起駕回鑾，深夜仍人潮滾滾，跪地鑽轎底人龍延長達兩三公里。記者蔡維斌／攝影白沙屯媽祖今天凌晨萬眾歡送下起駕回鑾，深夜仍人潮滾滾。記者蔡維斌／翻攝\\n\\n🟠整理包／逾30萬香燈腳報名創紀錄！2025白沙屯媽祖「粉紅超跑」開跑 日程、儀式、禁忌一文掌握🟠直播／「急行軍」白沙屯媽祖走到哪了？跟著香燈腳線上進香\\n\\n延伸閱讀\\n\\n白沙屯媽祖北港進香刈火 動員數百人唱名33萬香燈腳\\n\\n防疫結合白沙屯媽祖 羅一鈞攜手「白靜」北港朝天宮宣導\\n\\n香蕉白沙屯媽祖進香結緣貼布全送出 吐「越清空越被填滿」心靈之旅感受\\n\\n影／白沙屯媽祖急行軍趕路 彰化4刑警獲同意扛轎是因這原因\\n\\n相關新聞 [...] 結緣變劫緣？ 白沙屯信徒發麵包遭哄搶：不是香燈腳也來亂\\n\\n又到了每年農曆3月迎媽祖的宗教盛事時刻，有「粉紅超跑」之稱、逾百年歷史的白沙屯媽祖進香之旅，1日展開10天9夜的徒步進香行程。然而有信徒抱怨，自己在發送「結緣麵包」時，一群非香燈腳的民眾竟上前哄搶，甚至拿來袋子「大把大把抓」，讓他相當傻眼。\\n\\n贊助廣告\\n\\n商品推薦\\n\\nFB留言\\n\\nudn討論區\\n\\n熱門新聞\\n\\n白沙屯媽祖今凌晨1時30分登轎 數萬信眾簇擁下啟程回鑾\\n\\n天氣回暖 彰化偏鄉恢復全縣獨一無二小周末封街舞\\n\\n白沙屯媽祖北港進香刈火 動員數百人唱名33萬香燈腳\\n\\n白沙屯媽祖進香一名香燈腳誤入喪家以為是點心站 網友酸又罵\\n\\n70萬進香大軍湧入雲林小鎮 民眾苦等接駁車等4小時還沒上車\\n\\n猜你喜歡', 'score': 0.65966886}, {'title': '白沙屯媽祖緊急大迴轉「粉紅超跑」直奔對面 - 奇摩新聞', 'url': 'https://tw.news.yahoo.com/%E7%99%BD%E6%B2%99%E5%B1%AF%E5%AA%BD%E7%A5%96%E7%B7%8A%E6%80%A5%E5%A4%A7%E8%BF%B4%E8%BD%89-%E7%B2%89%E7%B4%85%E8%B6%85%E8%B7%91-%E9%80%86%E5%90%91%E7%9B%B4%E5%A5%94%E5%B0%8D%E9%9D%A2-035327939.html', 'content': '更多中時新聞網報導天氣》鋒面來襲「半個台灣濕答答」！下周雷雨狂炸 降雨熱區一次看美元兌台幣1：13.3會如何？「美元、美債崩跌」專家揭川普算計：好大一場戲川普關稅頭號受災戶！「1產業」崩慘了 出貨量驟降86％幾停擺\\n\\n其他人也在看\\n\\n33萬人朝聖白沙媽 驚傳長者失聯！家屬PO文急尋人\\n\\n33萬人朝聖白沙媽 驚傳長者失聯！家屬PO文急尋人\\n\\n去年喪父無法接駕...白沙屯媽祖今年特地來探望！男子感動大哭\\n\\n白沙屯媽祖進香活動今日（5/4）開始返程，近33萬「香燈腳」也創下新高紀錄。白沙屯媽祖官方YT「白沙屯媽祖網路電視台」稍早也放上一段影片，提及1名男信徒去年因父喪無法接駕，想不到媽祖今年特別去探望他，讓他感動流淚，信徒看完也都熱淚盈眶。\\n\\n【白沙屯進香】媽祖過門不入\\u3000宮廟點心站信眾失望\\n\\n每年都有許多虔誠的信眾在白沙屯媽祖進香的路上，擺設免費的美食攤位或者發放結緣品，為香燈腳加油打氣，但是白沙屯媽祖行蹤飄忽，路線隨興更改，這些點心站和結緣品的信眾說有時候透過GPS發現媽祖鑾轎更改路線不來了，就得趕進收拾攤位，匆忙地去追媽祖，但是久了以後信眾也有一套應對方法。 [...] 5月9號是俄羅斯的二戰勝利日，他們除了要在紅場大閱兵，最近還向烏克蘭提出，從8號開始停火三天的提議。只是烏克蘭總統澤倫斯基回應，三天停火只是作秀，呼籲俄羅斯應該停火30天，來為結束戰爭做準備。\\n\\n【白沙屯進香】凌晨啟程回鑾！ 全場喊「進喔」\\u3000數萬信眾跪地場面壯觀\\n\\n白沙屯拱天宮媽祖進香活動持續進行，沿途也掀起了一波「粉紅超跑」旋風。3日順利抵達雲林北港朝天宮，晚間時段進行了傳統的進火儀式，由朝天宮法師主持，誦經疏文近2千張，於今（4）日凌晨0時50分左右完成進火儀式後登轎、凌晨1時30分登轎出廟，踏上8天返回拱天宮的路程。\\n\\n熱門新聞\\n\\n川普應管台灣？智庫分析賴清德「正在做一件事」恐引爆跟中國戰爭\\n\\n不是AI！1.7公尺巨綠鬣蜥「納涼澄清湖」女子嚇到踩空…農業局急派獵人\\n\\n張麗善今當面道歉「送1物」\\u3000被推的爐主妙回1句\\n\\n人工生殖費要補稅 女法官：我好累，不上訴了\\n\\n震撼！政大連儂牆湧現標語「反清德 復民主」\\u3000青鳥崩潰\\n\\n你可能會喜歡\\n\\n金價大幅回檔！中國吹完「買金熱」吞苦果\\u3000他一覺醒來慘賠200萬\\n\\n台幣飆升誰是苦主？專家示警：這產業明年恐發不出股利 [...] 即時中心／游明哲報導白沙屯媽祖南下前往北港朝天宮進香，1日凌晨出發後一路急行軍，沿途香燈腳緊緊跟隨。就在今（3）日稍早，白沙屯媽祖抵達北港鎮，在鑾轎三進三退後，鑾轎進入了北港朝天宮，其震撼畫面也曝光。\\n\\n白沙屯媽進火在即！近33萬人報名疏文約2千張 誦讀估要3小時\\n\\n白沙屯媽往北港朝天宮進香，今年報名人數大爆量到32萬9118人，幾乎是去年的兩倍，雖然部分報名信眾不會隨團南下，但吉祥文...\\n\\n反川普「50501運動」是什麼？一則Reddit貼文引爆席捲全美的民主抗爭\\n\\n一則源自社群網站Reddit論壇的貼文，如今已演變成席捲全美的反川普群眾運動。這個以「50501」（50場抗議、50個州、1場共同的運動）為代號的草根行動，沒有中央領導、沒有組織名稱，卻從2月5日首度發起全國同步示威以來，就迅速激起民怨浪潮，數以萬計民眾走上街頭，向川普政府的行政擴權及民主倒退說不，\\n\\n太惡劣！14歲少年活活被燒死\\u300014名「未成年少年」涉過失殺人遭逮捕', 'score': 0.65252984}, {'title': '白沙屯媽祖回程緩慢行進！駐駕「派出所」過夜雲林民眾湧入參拜 ...', 'url': 'https://www.youtube.com/watch?v=_SHYwhdZqZE', 'content': '白沙屯媽祖回程緩慢行進！駐駕「派出所」過夜 雲林民眾湧入參拜（白沙屯媽祖網路電視台提供） \\n 自由時報電子報 \\n 204 likes \\n 4993 views \\n 4 May 2025 \\n #白沙屯#媽祖#派出所\\r\\n白沙屯媽祖回程緩慢行進！駐駕「派出所」過夜 雲林民眾湧入參拜\\r\\nhttps://news.ltn.com.tw/news/life/breakingnews/5032263\\r\\n\\r\\n苗栗白沙屯拱天宮媽祖進香今（4）日凌晨起駕回程，今天回程「粉紅超跑」行進緩慢，也令不少香燈腳能夠沿路欣賞雲林特有風情。經過一天路程，確定於斗南鎮新崙派出駐駕至明（5）日上午5點起駕，令不少當地民眾雀躍萬分，紛紛湧入派出所前參拜。白沙屯媽祖鑾轎凌晨先從北港朝天宮前右轉，接民生路方向前進，一路上先是在北\\r\\n\\r\\n----------------------------------------------------\\r\\n\\r\\n我們的頻道➔ http://video.ltn.com.tw\\r\\nYouTube➔ https://www.youtube.com/user/tvforltn [...] Dailymotion➔ https://www.dailymotion.com/LibertyTimes \\n 15 comments', 'score': 0.59824234}, {'title': '【生活】白沙屯媽祖凌晨1時30分登轎數萬信眾簇擁下啟程回鑾', 'url': 'https://www.youtube.com/watch?v=Q78rT20FSrs', 'content': '【生活】白沙屯媽祖凌晨1時30分登轎 數萬信眾簇擁下啟程回鑾 \\n udn video \\n 199 likes \\n 7643 views \\n 4 May 2025 \\n 苗栗白沙屯拱天宮媽祖徒步北港進香，今天凌晨0時45分完成進火儀式後登轎，在數萬香燈腳隨行下，浩浩蕩蕩踏上長達8天回鑾路程，原先傳出神轎在啟程後可能南下轉往嘉義，但龐大隊伍從朝天宮出廟後一路往北走，一路延綿長達約兩公里的人龍跪地鑽轎底，場面感人，隊伍預計5月11日下午3點45分返抵拱天宮。\\n\\n\\n#白沙屯媽祖 #山邊媽祖 #回鑾 #刈火儀式 #朝天宮 #北港 #news #udn #video \\n-\\n訂閱看更多精彩好片👉https://bit.ly/2WGgpks\\n\\n聯合新聞網》https://udn.com/news/index\\nFB》 https://www.facebook.com/myudn/\\nIG》  https://www.instagram.com/myudn/ \\n 0 comments', 'score': 0.5533369}]\u001b[0m\n",
      "Thought:\u001b[32;1m\u001b[1;3m根據搜尋結果，白沙屯媽祖進香活動正在進行中，並且已經開始返程。以下是相關的新聞標題和內容：\n",
      "\n",
      "1. 白沙屯媽祖今凌晨1時30分登轎，數萬信眾簇擁下啟程回鑾。\n",
      "2. 白沙屯媽祖回程緩慢行進，駐駕派出所過夜，雲林民眾湧入參拜。\n",
      "3. 白沙屯媽祖進香活動今日（5/4）開始返程，近33萬「香燈腳」也創下新高紀錄。\n",
      "\n",
      "這些新聞標題和內容表明白沙屯媽祖進香活動正在進行，並且已經開始返程。\n",
      "\n",
      "Thought: 我現在知道最終答案了。\n",
      "\n",
      "Final Answer: 白沙屯媽祖進香活動已經開始返程，預計5月11日下午3點45分返抵拱天宮。\u001b[0m\n",
      "\n",
      "\u001b[1m> Finished chain.\u001b[0m\n"
     ]
    },
    {
     "data": {
      "text/plain": [
       "'白沙屯媽祖進香活動已經開始返程，預計5月11日下午3點45分返抵拱天宮。'"
      ]
     },
     "execution_count": 14,
     "metadata": {},
     "output_type": "execute_result"
    }
   ],
   "source": [
    "agent_chain.run(\"今天台灣新聞 白沙屯\")"
   ]
  },
  {
   "cell_type": "code",
   "execution_count": 28,
   "id": "bc3fd3e7-a1c6-4379-8f84-e8ec82da14e5",
   "metadata": {},
   "outputs": [
    {
     "name": "stderr",
     "output_type": "stream",
     "text": [
      "\u001b[2mUsing Python 3.11.12 environment at: D:\\uv\\langchaing\u001b[0m\n",
      "\u001b[2mResolved \u001b[1m5 packages\u001b[0m \u001b[2min 958ms\u001b[0m\u001b[0m\n",
      "\u001b[2mPrepared \u001b[1m3 packages\u001b[0m \u001b[2min 1.17s\u001b[0m\u001b[0m\n",
      "\u001b[1m\u001b[33mwarning\u001b[39m\u001b[0m\u001b[1m:\u001b[0m \u001b[1mFailed to hardlink files; falling back to full copy. This may lead to degraded performance.\n",
      "         If the cache and target directories are on different filesystems, hardlinking may not be supported.\n",
      "         If this is intentional, set `export UV_LINK_MODE=copy` or use `--link-mode=copy` to suppress this warning.\u001b[0m\n",
      "\u001b[2mInstalled \u001b[1m3 packages\u001b[0m \u001b[2min 64ms\u001b[0m\u001b[0m\n",
      " \u001b[32m+\u001b[39m \u001b[1mduckduckgo-search\u001b[0m\u001b[2m==8.0.1\u001b[0m\n",
      " \u001b[32m+\u001b[39m \u001b[1mlxml\u001b[0m\u001b[2m==5.4.0\u001b[0m\n",
      " \u001b[32m+\u001b[39m \u001b[1mprimp\u001b[0m\u001b[2m==0.15.0\u001b[0m\n"
     ]
    }
   ],
   "source": [
    "!uv pip install -U duckduckgo-search"
   ]
  },
  {
   "cell_type": "code",
   "execution_count": 29,
   "id": "5e805d6e-128a-44dc-8198-39956f068f53",
   "metadata": {},
   "outputs": [],
   "source": [
    "# 混合 tools\n",
    "from langchain.agents import AgentType, initialize_agent, load_tools\n",
    "from langchain_community.tools.tavily_search import TavilySearchResults\n",
    "search = TavilySearchResults()\n",
    "tool_names_to_load = [\"ddg-search\"]\n",
    "loaded_named_tools = load_tools(tool_names_to_load, llm=llm)\n",
    "tools = loaded_named_tools + [search]\n",
    "agent_chain = initialize_agent(\n",
    "    tools=tools, llm=llm, agent=AgentType.ZERO_SHOT_REACT_DESCRIPTION, verbose=True\n",
    ")"
   ]
  },
  {
   "cell_type": "code",
   "execution_count": 30,
   "id": "ee253651-2cb8-4a58-b45a-6cd39a725bc0",
   "metadata": {},
   "outputs": [
    {
     "name": "stdout",
     "output_type": "stream",
     "text": [
      "\n",
      "\n",
      "\u001b[1m> Entering new AgentExecutor chain...\u001b[0m\n",
      "\u001b[32;1m\u001b[1;3mThought: 我需要查詢今天台灣的新聞，特別是關於白沙屯和台中天氣的新聞。我可以使用搜尋引擎來查詢相關的新聞。\n",
      "\n",
      "Action: tavily_search_results_json\n",
      "Action Input: 台灣新聞 白沙屯 台中天氣\u001b[0m\n",
      "Observation: \u001b[33;1m\u001b[1;3m[{'title': '️ 今晚白沙屯媽祖遶境來到台中囉！未來一週天氣暖呼呼 - Facebook', 'url': 'https://www.facebook.com/pinview.com.tw/posts/%EF%B8%8F-%E4%BB%8A%E6%99%9A%E7%99%BD%E6%B2%99%E5%B1%AF%E5%AA%BD%E7%A5%96%E9%81%B6%E5%A2%83%E4%BE%86%E5%88%B0%E5%8F%B0%E4%B8%AD%E5%9B%89%E6%9C%AA%E4%BE%86%E4%B8%80%E9%80%B1%E5%A4%A9%E6%B0%A3%E6%9A%96%E5%91%BC%E5%91%BC%E6%9C%80%E9%AB%98%E6%BA%AB%E7%9B%B4%E8%A1%9D35%E5%BA%A6%E4%B8%8B%E9%80%B1%E4%BA%8C%E8%BF%8E%E4%BE%86%E6%A2%85%E9%9B%A8%E5%AD%A3%E9%A6%96%E6%B3%A2%E9%8B%92%E9%9D%A2%E9%98%BF%E6%AF%8D%E5%80%91%E8%A6%81%E8%A8%98%E5%BE%97%E5%B8%B6%E6%8A%8A%E5%82%98%E5%87%BA%E9%96%80%E5%96%94%E7%99%BD%E6%B2%99%E5%B1%AF%E5%AA%BD%E7%A5%96-%E6%A2%85%E9%9B%A8%E5%AD%A3-%E5%A4%A9%E6%B0%A3%E9%A0%90%E5%A0%B1-%E9%80%B2%E9%A6%99%E6%B4%BB%E5%8B%95/1095483902610022/', 'content': '今晚白沙屯媽祖遶境來到台中囉！未來一週天氣暖呼呼，最高溫直衝35度！下週二迎來梅雨季首波鋒面，阿母們要記得帶把傘出門喔～ #白沙屯媽祖#梅雨季#天氣', 'score': 0.70580584}, {'title': '粉紅超跑去急回緩！白沙屯媽9小時飆過台中交管改道路線曝', 'url': 'https://news.tvbs.com.tw/life/2856782', 'content': '點擊關閉或任一空白處，繼續閱讀新聞。\\n\\n追蹤我們掌握最新動態\\n\\n人氣點閱榜\\n\\n今日頭條\\n\\n南投罷免突破二階門檻\\u3000馬文君：尊重包容到此為止\\n\\n高雄內門36.9度\\u3000兩道鋒面晴雨交替四階段雨區看這\\n\\n高雄駕訓班爆車禍\\u3000重機男練車衝進鐵皮屋慘摔畫面曝\\n\\n分享至：\\n\\n粉紅超跑去急回緩！白沙屯媽9小時飆過台中\\u3000交管改道路線曝\\n\\n小\\n\\n中\\n\\n大\\n\\n2025白沙屯媽祖進香即將啟程，32萬名香燈腳早已迫不及待共襄盛舉，不過今年特色「去急回緩」，今（1）日23時25分登轎出發後，粉紅超跑3日上午11時就要抵達雲林北港北辰派出所，相當緊湊，其中台中市海線地區預定明（2）日凌晨3時30分進入，約9小時後，中午離開往繼續彰化前進，《TVBS新聞網》也整理轄區大甲、清水及烏日分局公布的交通管制和替代路線，讓民眾免於塞車之苦。更多新聞：白沙屯媽祖今起駕！藍綠大咖參香\\u3000賴清德揭匾、盧秀燕後腳到\\n\\n台中大甲\\n\\n台中沙鹿、清水\\n\\n台中大肚、烏日、龍井\\n\\n彰化縣彰化市\\n\\n全台媽媽快樂指數調查，36萬母親陷憂鬱\\n下載TVBS新聞APP，最新消息不漏接\\n加入TVBS新聞LINE，重點新聞一次看\\n\\n\\n\\n◤熱門文章◢ [...] 👉拳后林郁婷膚況好零毛孔祕訣\\n\\n👉喝對水更健康! 喝鹼性水好嗎\\n\\n👉端午節提升好運勢四種方法\\n\\n白沙屯媽進香\\n\\n請支援躺平！賣場冷藏櫃旁搶手\\u3000香燈腳「吹涼」\\n\\n迎媽祖「1分鐘違規3次」\\u3000黃國昌嗆綠適可而止\\n\\n張麗善燒疏文惹議\\u3000拱天宮主委緩頰「沒問題」：別捕風捉影\\n\\n白沙屯媽突煞車！遇癲癇童、翁跪地求平安\\u3000「搖晃撫背」賜福\\n\\n看更多\\n\\n分享\\n\\n分享\\n\\n連結\\n\\n留言\\n\\n訂閱\\n\\n你可能會喜歡\\n\\n人氣點閱榜\\n\\n延伸閱讀\\n\\n莽男失控砸爆麻吉家\\u3000還持刀追砍救護車\\n\\n明星私中迎55週年校慶\\u3000李雅英、李多慧助陣\\n\\n84歲翁泡澡突倒浴缸猝死\\u3000疑有心臟病史\\n\\n工人清理取水口驚見悲劇\\u3000無名男屍腫脹亡\\n\\n台中版京華城？農田冒出12層大樓\\u3000容積增5.8倍撈上億\\n\\n嬤闖校尋孫喊找不到人\\u3000校方鼻酸：他畢業了\\n\\n台中妻和尪吵架分居\\u3000同學下藥侵犯結局曝\\n\\n台中翁7樓急墜重摔車庫亡\\u3000民眾目睹嚇壞\\n\\n台中男一夜賭輸2300萬\\u3000還3成遭爆打\\n\\n患罕病腹痛嘔吐7年\\u3000少年跑遍全台沒藥醫\\n\\n網友回應\\n\\n其他人都在看\\n\\n人氣點閱榜\\n\\n編輯推薦\\n\\n即時熱搜\\n\\n您的意見是我們前進的動力，歡迎來信或來電反映\\n\\n公司介紹\\n\\n人才招募 [...] 節目表\\n\\n主播專區\\n\\n企業動態\\n\\n更正與澄清\\n\\n新聞自律規範\\n\\n隱私權政策\\n\\n網站使用協定\\n\\n版權宣告\\n\\n業務服務\\n\\n節目版權銷售\\n\\n公開招標\\n\\n頂尖事務所\\n\\n官方聲明\\n\\n性騷擾防治措施\\n\\n本網站使用Cookies以便為你提供更優質的使用體驗，若您點選下方\"我同意\"或繼續瀏覽本網站，即表示您同意我們的Cookies政策，欲瞭解更多資訊請見隱私權政策\\n\\n0.1590\\n\\n0.0656\\n\\n0.2246', 'score': 0.6664756}, {'title': '白沙屯香燈腳記得防曬喝水！中部高溫33度蝴蝶颱風最新預測曝光', 'url': 'https://www.nownews.com/news/6678073?srsltid=AfmBOoo7_tmRi_UyHzKC3-K-_z08-UnL6-Gq-ByLyheCGTzIf0ktDkmu', 'content': '中部高溫33度蝴蝶颱風最新預測曝光 白沙屯媽祖遶境昨（1）晚11：25從苗栗拱天宮出發，今（2）早約8點已抵達台中。 想要跟著遶境，可以把握今天的好天氣，中央氣象', 'score': 0.64128816}, {'title': '白沙屯媽祖進香今天出發氣象署下午拱天宮前Live報天氣 - 知新聞', 'url': 'https://www.knews.com.tw/news/2B841F9263FC12769254E3F1CBD26957', 'content': '至於白沙屯媽祖進香期間的天氣狀況，今天鋒面通過北部海面，各地雲量增多，北部及東北部有零星短暫陣雨，東部、東南部下午開始也有局部短暫陣雨。溫度方面各地', 'score': 0.62687886}, {'title': '白沙屯進香5/2~5/4 天氣預報！今體感34度、紫外線空品亮紅燈', 'url': 'https://www.nownews.com/news/6678118?srsltid=AfmBOoqflYYn7RFDGLGRnaQxv05SGALU2gYF6T21qFp732_LYXkMAh4c', 'content': '白沙屯進香5/2~5/4 天氣預報！今體感34度、紫外線空品亮紅燈 · 白沙屯媽祖粉紅超跑到哪裡？「直播、GPS定位、臉書」連結一次收 · 白沙屯香燈腳記得防曬喝水！', 'score': 0.5832277}]\u001b[0m\n",
      "Thought:\u001b[32;1m\u001b[1;3m我已經獲得了一些關於白沙屯和台中天氣的新聞結果。現在，我需要整理這些資訊以回答問題。\n",
      "\n",
      "首先，根據搜尋結果，白沙屯媽祖遶境活動正在進行中，並且已經進入台中地區。同時，未來的天氣預報顯示未來一週天氣將會比較暖和，最高溫度甚至可能達到35度。\n",
      "\n",
      "接下來，我需要進一步確認這些資訊的詳細內容，以提供更完整的答案。\n",
      "\n",
      "Action: duckduckgo_search\n",
      "Action Input: 白沙屯媽祖進香天氣預報\u001b[0m\n",
      "Observation: \u001b[36;1m\u001b[1;3m2025年白沙屯媽祖徒步進香吸引32萬香燈腳跟隨，鑾轎已在今（3）日中午12點20分抵達朝天宮，不過由於中午高溫上探攝氏31度，截至下午3點已有逾45人 ... 白沙屯媽祖進香完整日程。翻攝自拱天宮臉書. 對於本次白沙屯媽祖進香，中央氣象署首次加入進香活動服務行列，將於今天下午由署長呂國臣、資深預報員伍婉華簡任技正，帶領氣象署團隊，在拱天宮前Live播報進香期間天氣預報及提醒。 白沙屯媽祖徒步進香之旅橫跨苗栗、台中、彰化、雲林等4個縣市，來回約400公里。今日中午12時25分許，白沙屯媽祖正式駐駕北港朝天宮，在上萬名 ... 透過追蹤風傳媒2025年白沙屯媽祖徒步進香活動即將於5月1日深夜起駕，預計在5月3日中午前後抵達雲林北港朝天宮進行進火儀式。預估當日 ... 相關新聞請見健康網》白沙屯媽祖遶境5月啟程 同行者中暑救援5步驟健康網》白沙屯媽祖遶境5月啟程 防中暑除喝水還有2法葉立斌／核稿編輯今（2025）年白沙屯媽祖徒步進香已如火如荼展開，這次進香人數眾多，加上天氣炎熱，民眾需慎防中暑。中醫師邵禹豪在臉書專頁「中醫師邵禹豪．禹你同行 ...\u001b[0m\n",
      "Thought:\u001b[32;1m\u001b[1;3m我已經獲得了更多關於白沙屯媽祖進香和天氣預報的資訊。現在，我可以綜合這些資訊來回答問題。\n",
      "\n",
      "根據搜尋結果，白沙屯媽祖進香活動正在進行中，並且已經進入台中地區。未來的天氣預報顯示未來一週天氣將會比較暖和，最高溫度甚至可能達到35度。同時，中央氣象署也加入了進香活動的服務行列，在拱天宮前進行了天氣預報的直播。\n",
      "\n",
      "現在，我可以提供最終的答案。\n",
      "\n",
      "Final Answer: 白沙屯媽祖進香活動正在進行中，已進入台中地區。未來一週天氣預報顯示將會比較暖和，最高溫度可能達到35度。中央氣象署也為進香活動提供了天氣預報服務。台中地區的香燈腳需注意防曬和補充水分，以防中暑。\u001b[0m\n",
      "\n",
      "\u001b[1m> Finished chain.\u001b[0m\n"
     ]
    },
    {
     "data": {
      "text/plain": [
       "'白沙屯媽祖進香活動正在進行中，已進入台中地區。未來一週天氣預報顯示將會比較暖和，最高溫度可能達到35度。中央氣象署也為進香活動提供了天氣預報服務。台中地區的香燈腳需注意防曬和補充水分，以防中暑。'"
      ]
     },
     "execution_count": 30,
     "metadata": {},
     "output_type": "execute_result"
    }
   ],
   "source": [
    "agent_chain.run(\"今天台灣新聞 關於白沙屯, 及台中天氣\")"
   ]
  },
  {
   "cell_type": "markdown",
   "id": "7fa16cca-2916-4599-bf24-f83acc57656a",
   "metadata": {},
   "source": [
    "## 自建tools"
   ]
  },
  {
   "cell_type": "code",
   "execution_count": 33,
   "id": "ab36eff0-29bc-47c6-b9de-ab4cd4ccd4fc",
   "metadata": {},
   "outputs": [],
   "source": [
    "from langchain.tools import tool\n",
    "\n",
    "@tool\n",
    "def get_weather(city: str) -> dict:\n",
    "    \"\"\"Get weather for a given city\"\"\"\n",
    "    print(f\"[TOOL] get_weather 被呼叫，城市：{city}\")    \n",
    "    return {\n",
    "        \"location\": city,\n",
    "        \"temperature\": \"23°C\",\n",
    "        \"condition\": \"Sunny ☀️\",\n",
    "        \"播報員\": \"mary\"\n",
    "    }\n",
    "\n"
   ]
  },
  {
   "cell_type": "code",
   "execution_count": 34,
   "id": "f1d69adc-1f25-4252-b00d-6662f71bb73c",
   "metadata": {},
   "outputs": [
    {
     "name": "stderr",
     "output_type": "stream",
     "text": [
      "\u001b[2mUsing Python 3.11.12 environment at: D:\\uv\\langchaing\u001b[0m\n",
      "\u001b[2mAudited \u001b[1m1 package\u001b[0m \u001b[2min 8ms\u001b[0m\u001b[0m\n"
     ]
    }
   ],
   "source": [
    "!uv pip install pytz"
   ]
  },
  {
   "cell_type": "code",
   "execution_count": 35,
   "id": "c1a67b3b-ebb4-49af-af60-cad9976ba1d9",
   "metadata": {},
   "outputs": [],
   "source": [
    "from langchain.tools import tool\n",
    "from datetime import datetime\n",
    "import pytz\n",
    "\n",
    "@tool\n",
    "def get_current_time(timezone: str) -> str:\n",
    "    \"\"\"根據時區取得目前的日期與時間。\"\"\"\n",
    "    try:\n",
    "        tz = pytz.timezone(timezone)\n",
    "        current_time = datetime.now(tz)\n",
    "        return current_time.strftime('%Y-%m-%d %H:%M:%S')\n",
    "    except pytz.UnknownTimeZoneError:\n",
    "        return f\"無法識別的時區: {timezone}\"\n"
   ]
  },
  {
   "cell_type": "code",
   "execution_count": 36,
   "id": "124b40d0-eff5-482e-b502-42ff0812ab48",
   "metadata": {},
   "outputs": [],
   "source": [
    "#from tools_time import get_current_time  # 同時引入這兩個工具\n",
    "#from tools_openweather import get_openweather  # 同時引入這兩個工具\n",
    "\n",
    "tool_names_to_load = [\"ddg-search\"]\n",
    "loaded_named_tools = load_tools(tool_names_to_load, llm=llm)\n",
    "tools = loaded_named_tools + [get_weather, get_current_time]\n",
    "agent_chain = initialize_agent(\n",
    "    tools=tools, llm=llm, agent=AgentType.ZERO_SHOT_REACT_DESCRIPTION, verbose=True\n",
    ")"
   ]
  },
  {
   "cell_type": "code",
   "execution_count": 38,
   "id": "c446e0e2-6bd2-4a66-8631-9ed20ba12ef9",
   "metadata": {},
   "outputs": [
    {
     "name": "stdout",
     "output_type": "stream",
     "text": [
      "\n",
      "\n",
      "\u001b[1m> Entering new AgentExecutor chain...\u001b[0m\n",
      "\u001b[32;1m\u001b[1;3mTo answer the question \"今天台中天氣及現在時間及白沙屯進度\", we need to break it down into three parts: \n",
      "1. Today's weather in 台中 (Taichung)\n",
      "2. Current time\n",
      "3. 白沙屯 (Baishatun) progress, likely referring to the Baishatun Mazu Pilgrimage event.\n",
      "\n",
      "Thought: First, let's get the current weather in Taichung.\n",
      "Action: get_weather\n",
      "Action Input: 台中\u001b[0m[TOOL] get_weather 被呼叫，城市：台中\n",
      "\n",
      "Observation: \u001b[33;1m\u001b[1;3m{'location': '台中', 'temperature': '23°C', 'condition': 'Sunny ☀️', '播報員': 'mary'}\u001b[0m\n",
      "Thought:\u001b[32;1m\u001b[1;3mThought: Now that we have the weather in Taichung, let's get the current time in the relevant timezone. Taichung is in Taiwan, so we'll use the 'Asia/Taipei' timezone.\n",
      "\n",
      "Action: get_current_time\n",
      "Action Input: Asia/Taipei\u001b[0m\n",
      "Observation: \u001b[38;5;200m\u001b[1;3m2025-05-04 20:19:34\u001b[0m\n",
      "Thought:\u001b[32;1m\u001b[1;3mTo complete the answer, we now need to find information about the \"白沙屯進度\" (Baishatun progress), likely referring to the Baishatun Mazu Pilgrimage event.\n",
      "\n",
      "Action: duckduckgo_search\n",
      "Action Input: 白沙屯進度\u001b[0m\n",
      "Observation: \u001b[36;1m\u001b[1;3m一年一度的白沙屯媽祖進香活動邁入最重要階段，在超過32萬名信眾報名參與下，苗栗白沙屯拱天宮媽祖鑾轎於2日凌晨啟程，歷經37小時長途跋涉後，終於在3日中午抵達北港朝天宮，隨即展開此次進香最重要的科儀「進火儀式」。 ... 鬆口二胎進度!趙又廷被問 ... 苗栗縣白沙屯拱天宮進香團，縱跨中部苗、中、彰、雲四縣來回共計400公里的進香行程，今年2025年突破30萬信眾跟隨，「粉紅超跑」於1日深夜11時25 ... 白沙屯媽祖進香活動今年報名人數突破30萬人，為歷年之最。1日深夜自苗栗通霄拱天宮起轎，橫跨苗栗、台中、彰化與雲林等四縣市，媽祖鑾轎今天 ... 2025乙巳年白沙屯媽祖徒步進香1日深夜登轎後啟程，今天中午12時許抵達雲林北港朝天宮，「粉紅超跑」飆速，成功挑戰36小時200多公里，媽祖鑾轎 ... 2025 白沙屯媽祖進香將於 5 月 2 日起駕!本篇整理放頭旗直播、遶境 gps 追蹤、詳細行程表，掌握媽祖進香最新進度與路線資訊，隨時跟上年度最盛大的徒步進香活動!\u001b[0m\n",
      "Thought:\u001b[32;1m\u001b[1;3mThought: Now that we have gathered information on the weather, current time, and the Baishatun Mazu Pilgrimage event, let's summarize the findings.\n",
      "\n",
      "The weather in Taichung is {'location': '台中', 'temperature': '23°C', 'condition': 'Sunny ☀️', '播報員': 'mary'}.\n",
      "The current time in Taichung (Asia/Taipei timezone) is 2025-05-04 20:19:34.\n",
      "The Baishatun Mazu Pilgrimage event has made significant progress, with the event starting on May 2, and by May 3, the Mazu procession had arrived at Beigang Chaotian Temple after a 37-hour journey.\n",
      "\n",
      "I now know the final answer.\n",
      "\n",
      "Final Answer: 台中今天天氣是23°C晴天，現在時間是2025-05-04 20:19:34，白沙屯媽祖進香活動已於5月3日抵達北港朝天宮並展開進火儀式。\u001b[0m\n",
      "\n",
      "\u001b[1m> Finished chain.\u001b[0m\n"
     ]
    },
    {
     "data": {
      "text/plain": [
       "'台中今天天氣是23°C晴天，現在時間是2025-05-04 20:19:34，白沙屯媽祖進香活動已於5月3日抵達北港朝天宮並展開進火儀式。'"
      ]
     },
     "execution_count": 38,
     "metadata": {},
     "output_type": "execute_result"
    }
   ],
   "source": [
    "agent_chain.run(\"今天台中天氣及現在時間及白沙屯進度\")"
   ]
  },
  {
   "cell_type": "markdown",
   "id": "c40a3325-db65-4dd7-bf92-e46faeb7e8f8",
   "metadata": {},
   "source": [
    "## 作業\n",
    "1.  **Agent 建立與 API 整合：**\n",
    "    * 使用 Langchain 建立一個 Agent，並整合至少一個外部 API。\n",
    "    * 建議可考慮的 API 包括：\n",
    "        * 台灣高鐵 Open API：查詢時刻表、票價、剩餘座位等。\n",
    "        * 中央氣象局 Open API：查詢天氣預報、觀測資料等。\n",
    "        * Google Maps Platform API：查詢地點資訊、導航路線等。\n",
    "        * 金融監督管理委員會 Open API：查詢股票資訊、匯率資訊等。\n",
    "    * 你也可以選擇其他你感興趣的 API，但請在報告中說明其功能和應用情境。\n",
    "\n",
    "2.  **Agent 行為設計：**\n",
    "    * Agent 應分析使用者意圖，判斷是否需要呼叫外部 API 才能回答問題。\n",
    "    * 如果使用者詢問的資訊可以透過 API 取得，則 Agent 必須使用 API。\n",
    "    * 如果無法透過 API 取得，則 Agent 應嘗試使用 LLM 回答。\n",
    "    * Agent 應向使用者說明其使用的工具（API 或 LLM）以及原因。\n",
    "\n",
    "3.  **範例互動：**\n",
    "    * **範例輸入 1：**「請問明天早上從台北到左營的高鐵有哪些車次？」\n",
    "    * **範例輸出 1：**「我查詢了台灣高鐵 API，明天早上從台北到左營的高鐵車次有以下幾班：...」\n",
    "    * **範例輸入 2：**「台北 101 有多高？」\n",
    "    * **範例輸出 2：**「台北 101 的高度是 508 公尺。」（此資訊可能透過 LLM 或 Google Maps API 取得）\n",
    "\n",
    "4.  **進階功能（選做）：**\n",
    "    * 整合多個 API，回答更複雜的問題。\n",
    "    * 加入錯誤處理機制，提升 Agent 的健壯性。\n",
    "    * 讓 Agent 能夠處理需要多輪對話才能完成的任務。\n",
    "    * 設計一個簡單的使用者介面，讓使用者可以更方便地與 Agent 互動。\n",
    "\n",
    "**評估標準：**\n",
    "\n",
    "* Agent 是否能夠成功整合外部 API？ (40%)\n",
    "* Agent 是否能夠根據使用者意圖正確判斷是否使用 API？ (40%)\n",
    "* Agent 的回答是否準確、完整、符合使用者需求？ (20%)\n",
    "\n"
   ]
  },
  {
   "cell_type": "code",
   "execution_count": null,
   "id": "cdab97dc-2ec9-4b2e-89b8-a400ce77fa60",
   "metadata": {},
   "outputs": [],
   "source": []
  },
  {
   "cell_type": "markdown",
   "id": "c5385f97-0d69-4547-830d-026a70e449b5",
   "metadata": {},
   "source": []
  },
  {
   "cell_type": "code",
   "execution_count": null,
   "id": "01c03502-1828-4d8e-80de-438492f15715",
   "metadata": {},
   "outputs": [],
   "source": []
  }
 ],
 "metadata": {
  "kernelspec": {
   "display_name": "Python 3 (ipykernel)",
   "language": "python",
   "name": "python3"
  },
  "language_info": {
   "codemirror_mode": {
    "name": "ipython",
    "version": 3
   },
   "file_extension": ".py",
   "mimetype": "text/x-python",
   "name": "python",
   "nbconvert_exporter": "python",
   "pygments_lexer": "ipython3",
   "version": "3.11.12"
  }
 },
 "nbformat": 4,
 "nbformat_minor": 5
}

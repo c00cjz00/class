{
 "cells": [
  {
   "cell_type": "markdown",
   "id": "e6d2af97-28f5-46c2-a1a9-5589c26371e9",
   "metadata": {},
   "source": [
    "# chatbots\n",
    "- https://python.langchain.com/docs/tutorials/chatbot/"
   ]
  },
  {
   "cell_type": "code",
   "execution_count": 1,
   "id": "d115a829-202a-4c7e-8605-4eb4bb9b0944",
   "metadata": {},
   "outputs": [
    {
     "name": "stdin",
     "output_type": "stream",
     "text": [
      "Enter API key for NVIDIA:  ········\n"
     ]
    }
   ],
   "source": [
    "# llm模型設定\n",
    "# https://build.nvidia.com/deepseek-ai/deepseek-r1\n",
    "# nvapi-xxx\n",
    "import getpass\n",
    "import os\n",
    "if not os.environ.get(\"NVIDIA_API_KEY\"):\n",
    "  os.environ[\"NVIDIA_API_KEY\"] = getpass.getpass(\"Enter API key for NVIDIA: \")"
   ]
  },
  {
   "cell_type": "code",
   "execution_count": 2,
   "id": "106d380c-8770-4b24-9451-a44054daa9cc",
   "metadata": {},
   "outputs": [],
   "source": [
    "!uv pip install -qU \"langchain-nvidia-ai-endpoints\""
   ]
  },
  {
   "cell_type": "code",
   "execution_count": 2,
   "id": "6e5ffd78-6fb6-4c89-9d9d-eb29e3f1eece",
   "metadata": {},
   "outputs": [
    {
     "name": "stderr",
     "output_type": "stream",
     "text": [
      "D:\\uv\\langchaing\\Lib\\site-packages\\langchain_nvidia_ai_endpoints\\_common.py:212: UserWarning: Found meta/llama-4-maverick-17b-128e-instruct in available_models, but type is unknown and inference may fail.\n",
      "  warnings.warn(\n"
     ]
    }
   ],
   "source": [
    "## 模型來源\n",
    "# https://build.nvidia.com/deepseek-ai\n",
    "# https://build.nvidia.com/meta\n",
    "# https://build.nvidia.com/google\n",
    "# https://build.nvidia.com/qwen\n",
    "\n",
    "from langchain.chat_models import init_chat_model\n",
    "llm = init_chat_model(\"meta/llama-4-maverick-17b-128e-instruct\", model_provider=\"nvidia\")"
   ]
  },
  {
   "cell_type": "code",
   "execution_count": 3,
   "id": "8ec5e34a-eacb-4cda-ac5e-03381f7a73dd",
   "metadata": {},
   "outputs": [
    {
     "name": "stdout",
     "output_type": "stream",
     "text": [
      "content=\"Nice to meet you, Bob! How's your day going so far?\" additional_kwargs={} response_metadata={'role': 'assistant', 'reasoning_content': None, 'content': \"Nice to meet you, Bob! How's your day going so far?\", 'tool_calls': [], 'token_usage': {'prompt_tokens': 25, 'total_tokens': 41, 'completion_tokens': 16, 'prompt_tokens_details': None}, 'finish_reason': 'stop', 'model_name': 'meta/llama-4-maverick-17b-128e-instruct'} id='run--8c8c5ab2-767b-405e-a098-0ce96acc6221-0' usage_metadata={'input_tokens': 25, 'output_tokens': 16, 'total_tokens': 41} role='assistant'\n",
      "---------------\n",
      "Nice to meet you, Bob! How's your day going so far?\n"
     ]
    }
   ],
   "source": [
    "from langchain_core.messages import HumanMessage, SystemMessage\n",
    "\n",
    "messages = [\n",
    "    SystemMessage(\"You are a ai assistant\"),\n",
    "    HumanMessage(\"Hi! I'm Bob!\"),\n",
    "]\n",
    "\n",
    "response=llm.invoke(messages)\n",
    "print(response)\n",
    "print(\"---------------\")\n",
    "print(response.content)"
   ]
  },
  {
   "cell_type": "code",
   "execution_count": 4,
   "id": "fe0ccb9d-442b-445a-b7f5-939c7b028316",
   "metadata": {},
   "outputs": [
    {
     "data": {
      "text/plain": [
       "AIMessage(content=\"You haven't told me your name, so I don't know it. I'm happy to chat with you and learn more about you, though! Would you like to share your name with me?\", additional_kwargs={}, response_metadata={'role': 'assistant', 'reasoning_content': None, 'content': \"You haven't told me your name, so I don't know it. I'm happy to chat with you and learn more about you, though! Would you like to share your name with me?\", 'tool_calls': [], 'token_usage': {'prompt_tokens': 14, 'total_tokens': 52, 'completion_tokens': 38, 'prompt_tokens_details': None}, 'finish_reason': 'stop', 'model_name': 'meta/llama-4-maverick-17b-128e-instruct'}, id='run--f8bd422e-1e5e-4ef8-9d73-42c9ad365057-0', usage_metadata={'input_tokens': 14, 'output_tokens': 38, 'total_tokens': 52}, role='assistant')"
      ]
     },
     "execution_count": 4,
     "metadata": {},
     "output_type": "execute_result"
    }
   ],
   "source": [
    "llm.invoke([HumanMessage(content=\"What's my name?\")])"
   ]
  },
  {
   "cell_type": "code",
   "execution_count": 5,
   "id": "9d37bc05-f7c6-4c3c-bba7-20ed15444ff9",
   "metadata": {},
   "outputs": [
    {
     "data": {
      "text/plain": [
       "AIMessage(content='Your name is Bob! You told me that when you first said hello.', additional_kwargs={}, response_metadata={'role': 'assistant', 'reasoning_content': None, 'content': 'Your name is Bob! You told me that when you first said hello.', 'tool_calls': [], 'token_usage': {'prompt_tokens': 48, 'total_tokens': 64, 'completion_tokens': 16, 'prompt_tokens_details': None}, 'finish_reason': 'stop', 'model_name': 'meta/llama-4-maverick-17b-128e-instruct'}, id='run--d268f159-f1a9-4145-824e-389a70bf474a-0', usage_metadata={'input_tokens': 48, 'output_tokens': 16, 'total_tokens': 64}, role='assistant')"
      ]
     },
     "execution_count": 5,
     "metadata": {},
     "output_type": "execute_result"
    }
   ],
   "source": [
    "from langchain_core.messages import HumanMessage, SystemMessage, AIMessage\n",
    "\n",
    "llm.invoke(\n",
    "    [\n",
    "        SystemMessage(\"You are a ai assistant\"),\n",
    "        HumanMessage(content=\"Hi! I'm Bob\"),\n",
    "        AIMessage(content=\"Hello Bob! How can I assist you today?\"),\n",
    "        HumanMessage(content=\"What's my name?\"),\n",
    "    ]\n",
    ")"
   ]
  },
  {
   "cell_type": "markdown",
   "id": "86c62d46-647e-4409-ad59-66607c0a4faa",
   "metadata": {},
   "source": [
    "## LangGraph實現了內建持久層，使其成為支援多輪對話的聊天應用程式的理想選擇。"
   ]
  },
  {
   "cell_type": "code",
   "execution_count": 8,
   "id": "e13d0bd4-dd22-4803-a8ea-da98436d66aa",
   "metadata": {},
   "outputs": [],
   "source": [
    "# 匯入必要模組\n",
    "from langgraph.checkpoint.memory import MemorySaver\n",
    "from langgraph.graph import START, MessagesState, StateGraph\n",
    "from langchain_core.messages import HumanMessage, SystemMessage, AIMessage\n",
    "\n",
    "# 建立一個新的語言模型工作流程（Graph），使用 MessagesState 定義狀態結構（通常為多輪訊息列表）\n",
    "workflow = StateGraph(state_schema=MessagesState)\n",
    "\n",
    "\n",
    "# 定義模型處理節點的邏輯函式\n",
    "def call_model(state: MessagesState):\n",
    "    # 從狀態中取得歷史訊息（message history）\n",
    "    # 並呼叫語言模型進行處理（這裡的 llm 須事先定義，例如：ChatOpenAI(...)）\n",
    "    response = llm.invoke(state[\"messages\"])\n",
    "    # 回傳新的狀態，仍然是以 messages 為主\n",
    "    return {\"messages\": response}\n",
    "\n",
    "\n",
    "# 在流程中添加節點與邊（edge）：\n",
    "# 1. 從 START 開始，轉到 \"model\" 節點\n",
    "workflow.add_edge(START, \"model\")\n",
    "\n",
    "# 2. 定義 \"model\" 節點的邏輯為 call_model 函式\n",
    "workflow.add_node(\"model\", call_model)\n",
    "\n",
    "\n",
    "# 建立記憶體儲存器，用於保存流程中的狀態資料\n",
    "memory = MemorySaver()\n",
    "\n",
    "# 編譯整個工作流程為可執行應用（App），並指定使用記憶體儲存\n",
    "app = workflow.compile(checkpointer=memory)\n",
    "\n",
    "# 範例：如果你想要執行這個流程，可使用 app.invoke()\n",
    "#config = {\"configurable\": {\"thread_id\": \"abc123\"}}\n",
    "#query = \"Hi! I'm Bob.\"\n",
    "#input_messages = [HumanMessage(query)]\n",
    "#result = app.invoke({\"messages\": input_messages}, config)\n",
    "#print(result[\"messages\"])"
   ]
  },
  {
   "cell_type": "code",
   "execution_count": 9,
   "id": "492e77fb-657c-48a1-9db3-ec786e5e233e",
   "metadata": {},
   "outputs": [
    {
     "name": "stdout",
     "output_type": "stream",
     "text": [
      "==================================\u001b[1m Ai Message \u001b[0m==================================\n",
      "\n",
      "Nice to meet you, Bob! How's it going?\n"
     ]
    }
   ],
   "source": [
    "config = {\"configurable\": {\"thread_id\": \"abc123\"}}\n",
    "query = \"Hi! I'm Bob.\"\n",
    "input_messages = [HumanMessage(query)]\n",
    "output = app.invoke({\"messages\": input_messages}, config)\n",
    "output[\"messages\"][-1].pretty_print()  # output contains all messages in state"
   ]
  },
  {
   "cell_type": "code",
   "execution_count": 10,
   "id": "aeb095fb-e8d2-4ec4-aa45-ac6bd2a9989b",
   "metadata": {},
   "outputs": [
    {
     "name": "stdout",
     "output_type": "stream",
     "text": [
      "==================================\u001b[1m Ai Message \u001b[0m==================================\n",
      "\n",
      "Your name is Bob! I remember, you told me just a moment ago.\n"
     ]
    }
   ],
   "source": [
    "query = \"What's my name?\"\n",
    "input_messages = [HumanMessage(query)]\n",
    "output = app.invoke({\"messages\": input_messages}, config)\n",
    "output[\"messages\"][-1].pretty_print()"
   ]
  },
  {
   "cell_type": "code",
   "execution_count": 11,
   "id": "611868b9-d904-47ef-90c7-d0afbec20b45",
   "metadata": {},
   "outputs": [
    {
     "name": "stdout",
     "output_type": "stream",
     "text": [
      "==================================\u001b[1m Ai Message \u001b[0m==================================\n",
      "\n",
      "You haven't told me your name, so I don't know it. Would you like to share it with me?\n"
     ]
    }
   ],
   "source": [
    "# 更換 thread_id\n",
    "config = {\"configurable\": {\"thread_id\": \"abc234\"}}\n",
    "query = \"What's my name?\"\n",
    "input_messages = [HumanMessage(query)]\n",
    "output = app.invoke({\"messages\": input_messages}, config)\n",
    "output[\"messages\"][-1].pretty_print()"
   ]
  },
  {
   "cell_type": "code",
   "execution_count": 12,
   "id": "740d24e0-78c6-44db-afda-f891c07c14b2",
   "metadata": {},
   "outputs": [
    {
     "name": "stdout",
     "output_type": "stream",
     "text": [
      "==================================\u001b[1m Ai Message \u001b[0m==================================\n",
      "\n",
      "You told me your name is Bob. Is that correct?\n"
     ]
    }
   ],
   "source": [
    "# 更換 thread_id\n",
    "config = {\"configurable\": {\"thread_id\": \"abc123\"}}\n",
    "query = \"What's my name?\"\n",
    "input_messages = [HumanMessage(query)]\n",
    "output = app.invoke({\"messages\": input_messages}, config)\n",
    "output[\"messages\"][-1].pretty_print()"
   ]
  },
  {
   "cell_type": "markdown",
   "id": "c5385f97-0d69-4547-830d-026a70e449b5",
   "metadata": {},
   "source": [
    "## 習題\n",
    "\n",
    "**擴展聊天機器人功能**\n",
    "\n",
    "1.  **基本功能：**\n",
    "    * 在 notebook 中，我們創建了一個基本的聊天機器人，它可以記住用戶的名字並在同一 session 中使用它。\n",
    "    * 你的任務是擴展這個聊天機器人，讓它可以記住多個使用者的資訊，並且在不同的 session 中也能夠正確辨識使用者。\n",
    "\n",
    "2.  **情境設定：**\n",
    "    * 將聊天機器人設定為一個線上書店的客服機器人。\n",
    "    * 除了基本的問候和回答問題外，聊天機器人還需要能夠處理以下功能：\n",
    "        * 查詢書籍資訊（例如：書名、作者、價格、庫存）。\n",
    "        * 提供書籍推薦。\n",
    "        * 處理訂單查詢（例如：訂單狀態、物流資訊）。\n",
    "\n",
    "\n",
    "**評估標準：**\n",
    "\n",
    "* 程式碼是否能夠正確區分和辨識不同使用者？ (30%)\n",
    "* 使用者資訊是否能夠持久化儲存，並在不同 session 中正確載入？ (30%)\n",
    "* 聊天機器人是否能夠完成指定的情境任務（查詢書籍、提供推薦、處理訂單）？ (40%)\n",
    "\n",
    "\n"
   ]
  },
  {
   "cell_type": "code",
   "execution_count": null,
   "id": "01c03502-1828-4d8e-80de-438492f15715",
   "metadata": {},
   "outputs": [],
   "source": []
  }
 ],
 "metadata": {
  "kernelspec": {
   "display_name": "Python 3 (ipykernel)",
   "language": "python",
   "name": "python3"
  },
  "language_info": {
   "codemirror_mode": {
    "name": "ipython",
    "version": 3
   },
   "file_extension": ".py",
   "mimetype": "text/x-python",
   "name": "python",
   "nbconvert_exporter": "python",
   "pygments_lexer": "ipython3",
   "version": "3.11.12"
  }
 },
 "nbformat": 4,
 "nbformat_minor": 5
}

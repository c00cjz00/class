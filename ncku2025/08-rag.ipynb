{
 "cells": [
  {
   "cell_type": "markdown",
   "id": "187bda6f-742b-4eb2-b5c2-007fded5176d",
   "metadata": {},
   "source": [
    "## 建立檢索增強生成 (RAG) 應用程式\n",
    "- https://python.langchain.com/docs/tutorials/rag/\n",
    "- https://medium.com/jimmy-wang/langchain-rag%E5%AF%A6%E6%88%B0%E7%AC%AC%E4%B8%80%E7%AB%99-efe975f4c3bd"
   ]
  },
  {
   "cell_type": "code",
   "execution_count": 2,
   "id": "7c1e10c8-e7d1-44b6-8e32-5d2faea12a6c",
   "metadata": {},
   "outputs": [],
   "source": [
    "# 安裝套件\n",
    "!uv pip install --quiet --upgrade langchain-text-splitters langchain-community langgraph langchain langchain-openai langchain-nvidia-ai-endpoints langchain-chroma"
   ]
  },
  {
   "cell_type": "code",
   "execution_count": 42,
   "id": "1c14ce41-85dc-4c64-8714-42180bd52fc3",
   "metadata": {},
   "outputs": [],
   "source": [
    "# Helper function for printing docs\n",
    "def pretty_print_docs(docs):\n",
    "    print(\n",
    "        f\"\\n{'-' * 100}\\n\".join(\n",
    "            [f\"Document {i+1}:\\n\\n\" + d.page_content for i, d in enumerate(docs)]\n",
    "        )\n",
    "    )"
   ]
  },
  {
   "cell_type": "code",
   "execution_count": 4,
   "id": "1f86aff2-041e-42b0-a53f-defc917d0d1c",
   "metadata": {},
   "outputs": [
    {
     "name": "stdin",
     "output_type": "stream",
     "text": [
      "Enter API key for NVIDIA:  ········\n"
     ]
    },
    {
     "name": "stderr",
     "output_type": "stream",
     "text": [
      "D:\\uv\\langchaing\\Lib\\site-packages\\langchain_nvidia_ai_endpoints\\_common.py:212: UserWarning: Found meta/llama-4-maverick-17b-128e-instruct in available_models, but type is unknown and inference may fail.\n",
      "  warnings.warn(\n"
     ]
    }
   ],
   "source": [
    "# LLM 模型\n",
    "# https://build.nvidia.com/deepseek-ai/deepseek-r1\n",
    "# nvapi-\n",
    "import getpass\n",
    "import os\n",
    "\n",
    "if not os.environ.get(\"NVIDIA_API_KEY\"):\n",
    "  os.environ[\"NVIDIA_API_KEY\"] = getpass.getpass(\"Enter API key for NVIDIA: \")\n",
    "\n",
    "from langchain.chat_models import init_chat_model\n",
    "\n",
    "llm = init_chat_model(\"meta/llama-4-maverick-17b-128e-instruct\", model_provider=\"nvidia\")"
   ]
  },
  {
   "cell_type": "code",
   "execution_count": 5,
   "id": "72a3d6e7-1b40-48c0-8a37-5f60baecf3a4",
   "metadata": {},
   "outputs": [
    {
     "name": "stdin",
     "output_type": "stream",
     "text": [
      "Enter API key for Voyage AI:  ········\n"
     ]
    }
   ],
   "source": [
    "# embedding and rerank 模型\n",
    "# https://jina.ai/\n",
    "# jina_\n",
    "import getpass\n",
    "import os\n",
    "\n",
    "if not os.environ.get(\"JINA_API_KEY\"):\n",
    "  os.environ[\"JINA_API_KEY\"] = getpass.getpass(\"Enter API key for Voyage AI: \")\n",
    "\n",
    "from langchain_community.embeddings import JinaEmbeddings\n",
    "embeddings = JinaEmbeddings(\n",
    "    jina_api_key=os.environ[\"JINA_API_KEY\"], model_name=\"jina-embeddings-v3\"\n",
    ")\n",
    "\n",
    "\n",
    "from langchain_community.document_compressors import JinaRerank\n",
    "\n",
    "rerank = JinaRerank(model=\"jina-reranker-v2-base-multilingual\")  # 或使用 \"rerank-1\" 精準但較慢"
   ]
  },
  {
   "cell_type": "code",
   "execution_count": 7,
   "id": "a86c9cda-8899-4b2a-9ef9-31a7a982f2a5",
   "metadata": {},
   "outputs": [],
   "source": [
    "# 向量資料庫建立\n",
    "from langchain_chroma import Chroma\n",
    "\n",
    "vector_store = Chroma(\n",
    "    #collection_name=\"example_collection\",\n",
    "    embedding_function=embeddings,\n",
    "    persist_directory=\"./chroma_langchain_db27\",  # Where to save data locally, remove if not necessary\n",
    ")"
   ]
  },
  {
   "cell_type": "markdown",
   "id": "f577cfa7-d2f9-4a23-b460-b0cb848d35bb",
   "metadata": {},
   "source": [
    "### Indexing\n",
    "我們需要先載入部落格文章內容。我們可以為此使用 DocumentLoaders ，它是從來源載入資料並傳回 Document物件 清單的物件。\n",
    "在這種情況下，我們將使用 WebBaseLoader，它用於urllib從 Web URL 載入 HTML 並將BeautifulSoup其解析為文字。我們可以透過向BeautifulSoup解析器傳遞參數來客製化 HTML -> 文字解析bs_kwargs（參見 BeautifulSoup 文件）。在這種情況下，只有帶有“post-content”，“post-title”或“post-header”類別的 HTML 標籤是相關的，因此我們將刪除所有其他標籤。"
   ]
  },
  {
   "cell_type": "code",
   "execution_count": 8,
   "id": "70ffd7f2-c8d7-48c1-96c7-be71eead2ccf",
   "metadata": {},
   "outputs": [
    {
     "name": "stderr",
     "output_type": "stream",
     "text": [
      "USER_AGENT environment variable not set, consider setting it to identify your requests.\n"
     ]
    },
    {
     "name": "stdout",
     "output_type": "stream",
     "text": [
      "Total characters: 18282\n",
      "關於與「鹿鼎記」標題相近或相同的條目，請見「鹿鼎記 (消歧義)」。\n",
      "鹿鼎記書籍封面作者金庸類型小說語言中文故事背景主題武俠時代清朝 出版資訊出版機構 明河社 廣州出版社 遠流出版社出版日期1969年出版地 英屬香港媒介文字；報紙連載；書冊系列作品前作笑傲江湖續作越女劍\n",
      "《鹿鼎記》是香港作家金庸的最後一部武俠小說作品，可以視為金庸創作的最高峰、最頂點。1969年10月24日至1972年9月23日連載於《明報》，共22回。小說故事發生在清初（1668年-1689年），以寫實主義、歷史引述和悲劇主題喜劇化的手法見稱，與《碧血劍》的情節有所關連。\n",
      "\n",
      "\n",
      "故事梗概[編輯]\n",
      "康熙初年，浙江富紳莊允誠遭革職知縣吳之榮舉報，告發其子所編《明史》中使用前明年號。權臣鰲拜即大興文字獄，莊家遭全家抄斬，更牽連有份編修，以至買賣此籍之民眾，這便是轟動全國的莊廷鑨明史案。\n",
      "小說的主人公韋小寶成長於揚州妓院麗春院，母親韋春花是院內妓女。十二三歲的韋小寶救了越獄犯茅十八一命，茅十八誇口要上京與「滿洲第一勇士」鰲拜決鬥，韋小寶便隨他北上。\n",
      "兩人在京城遭尚膳監總管海大富擒進宮中。韋小寶暗中將海大富毒盲，把服侍他的小太監小\n"
     ]
    }
   ],
   "source": [
    "import bs4\n",
    "from langchain_community.document_loaders import WebBaseLoader\n",
    "\n",
    "# Only keep post title, headers, and content from the full HTML.\n",
    "# <div id=\"mw-content-text\" class=\"mw-body-content\">\n",
    "#bs4_strainer = bs4.SoupStrainer(class_=(\"post-title\", \"post-header\", \"post-content\"))\n",
    "bs4_strainer = bs4.SoupStrainer(class_=(\"mw-body-content\"))\n",
    "loader = WebBaseLoader(\n",
    "    #web_paths=(\"https://lilianweng.github.io/posts/2023-06-23-agent/\",),\n",
    "    web_paths=(\"https://zh.wikipedia.org/zh-tw/%E9%B9%BF%E9%BC%8E%E8%AE%B0\",),\n",
    "    bs_kwargs={\"parse_only\": bs4_strainer},\n",
    ")\n",
    "docs = loader.load()\n",
    "\n",
    "#assert len(docs) == 1\n",
    "print(f\"Total characters: {len(docs[0].page_content)}\")\n",
    "print(docs[0].page_content[:500])"
   ]
  },
  {
   "cell_type": "raw",
   "id": "90a418e1-fedd-44cb-8ea2-3dbf81dff29c",
   "metadata": {},
   "source": [
    "!uv pip install -qU pypdf langchain_community\n",
    "from langchain_community.document_loaders import PyPDFLoader\n",
    "file_path = \"e2729e76-29a0-4be5-9eef-67809b05d6b9.pdf\"\n",
    "loader = PyPDFLoader(file_path)\n",
    "docs = loader.load()\n",
    "print(f\"Total characters: {len(docs[2].page_content)}\")\n",
    "print(docs[2].page_content[:100])"
   ]
  },
  {
   "cell_type": "markdown",
   "id": "7a4ddc26-150c-4519-8173-c482bd9829bb",
   "metadata": {},
   "source": [
    "### Splitting documents\n",
    "我們載入的文檔超過 18k 個字符，太長，無法放入許多模型的上下文視窗。即使對於那些可以在其上下文視窗中容納完整帖子的模型，模型也很難在很長的輸入中找到資訊。\n",
    "\n",
    "為了解決這個問題，我們將其分成Document用於嵌入和向量儲存的區塊。這應該有助於我們在運行時僅檢索部落格文章中最相關的部分。"
   ]
  },
  {
   "cell_type": "code",
   "execution_count": 9,
   "id": "c0d12bfa-0c6e-42a6-bb1f-a7f8b1a8a704",
   "metadata": {},
   "outputs": [
    {
     "name": "stdout",
     "output_type": "stream",
     "text": [
      "Split blog post into 24 sub-documents.\n"
     ]
    }
   ],
   "source": [
    "from langchain_text_splitters import RecursiveCharacterTextSplitter\n",
    "\n",
    "text_splitter = RecursiveCharacterTextSplitter(\n",
    "    chunk_size=1000,  # chunk size (characters)\n",
    "    chunk_overlap=100,  # chunk overlap (characters)\n",
    "    add_start_index=True,  # track index in original document\n",
    ")\n",
    "all_splits = text_splitter.split_documents(docs)\n",
    "\n",
    "print(f\"Split blog post into {len(all_splits)} sub-documents.\")"
   ]
  },
  {
   "cell_type": "markdown",
   "id": "b1301cbf-99a6-469a-a553-b0c37cde3166",
   "metadata": {},
   "source": [
    "### Storing documents\n",
    "\n",
    "現在我們需要索引我們的 24 個文字區塊，以便我們可以在運行時搜尋它們。按照語義搜尋教程，我們的方法是嵌入每個文件分割的內容並將這些嵌入插入到向量儲存中。給定輸入查詢，我們可以使用向量搜尋來檢索相關文件。"
   ]
  },
  {
   "cell_type": "code",
   "execution_count": 10,
   "id": "90ec7cbd-3d4e-462a-86a7-ee558a4a520c",
   "metadata": {},
   "outputs": [
    {
     "name": "stdout",
     "output_type": "stream",
     "text": [
      "['2c43cc40-3f92-4449-8ff4-b8166fc7ba1f', 'a6f50243-f803-436a-a98b-879d538ceac4', 'af78033b-3f49-4a51-8196-b55042620392']\n"
     ]
    }
   ],
   "source": [
    "document_ids = vector_store.add_documents(documents=all_splits)\n",
    "\n",
    "print(document_ids[:3])"
   ]
  },
  {
   "cell_type": "code",
   "execution_count": 11,
   "id": "ed9b2fb0-0a4d-43f0-911d-0681a1255e0c",
   "metadata": {},
   "outputs": [
    {
     "name": "stdout",
     "output_type": "stream",
     "text": [
      "--- Document 1 ---\n",
      "關於與「鹿鼎記」標題相近或相同的條目，請見「鹿鼎記 (消歧義)」。\n",
      "鹿鼎記書籍封面作者金庸類型小說語言中文故事背景主題武俠時代清朝 出版資訊出版機構 明河社 廣州出版社 遠流出版社出版日期1969年出版地 英屬香港媒介文字；報紙連載；書冊系列作品前作笑傲江湖續作越女劍\n",
      "《鹿鼎記》是香港作家金庸的最後一部武俠小說作品，可以視為金庸創作的最高峰、最頂點。1969年10月24日至1972年9月23日連載於《明報》，共22回。小說故事發生在清初（1668年-1689年），以寫實主義、歷史引述和悲劇主題喜劇化的手法見稱，與《碧血劍》的情節有所關連。\n",
      "\n",
      "\n",
      "--- Document 2 ---\n",
      "故事梗概[編輯]\n",
      "康熙初年，浙江富紳莊允誠遭革職知縣吳之榮舉報，告發其子所編《明史》中使用前明年號。權臣鰲拜即大興文字獄，莊家遭全家抄斬，更牽連有份編修，以至買賣此籍之民眾，這便是轟動全國的莊廷鑨明史案。\n",
      "小說的主人公韋小寶成長於揚州妓院麗春院，母親韋春花是院內妓女。十二三歲的韋小寶救了越獄犯茅十八一命，茅十八誇口要上京與「滿洲第一勇士」鰲拜決鬥，韋小寶便隨他北上。\n",
      "兩人在京城遭尚膳監總管海大富擒進宮中。韋小寶暗中將海大富毒盲，把服侍他的小太監小桂子殺死後，冒充為小桂子以應付眼盲的海大富，助茅十八脫身。韋小寶受海大富命令，在宮中找尋《四十二章經》，無意中結識了自稱「小玄子」的康熙皇帝及建寧公主，成為好友，更助康熙生擒鰲拜。海大富憑著小寶與康熙比武的招式，推敲出殺死康熙生母孝康章皇后，以及孝獻端敬皇后及其子榮親王等人的兇手正是太后，依照順治帝從前的命令，往取太后性命，激鬥後卻為太后所殺。而韋小寶從海大富與太后之間的對話中，得知康熙帝之父順治帝尚在人間。\n",
      "韋小寶奉命去殺囚在康親王府中的鰲拜，竟遇上欲刺殺鰲拜的天地會一眾，韋小寶在混亂中殺死了鰲拜，之後被一眾天地會刺客擄走。天地會總舵主陳近南\n",
      "\n",
      "\n",
      "--- Document 3 ---\n",
      "康熙得知順治在清涼寺，為掩人耳目，先派韋小寶到少林寺出家。路上，韋小寶及眾侍衛遭王屋派偷襲，由此認識了少女曾柔，韋小寶藉寶刀寶衣反制王屋派，卻又借賭局將他們釋放。\n",
      "韋小寶剃度後，在寺外遇到來少林寺挑釁的阿珂，深深為其美貌傾倒。韋小寶後來轉往清涼寺當住持，大批喇嘛再次圍攻清涼寺，小寶施計帶領眾人逃出，剛好遇上康熙率眾前來。眾喇嘛被擒，而康熙父子得以相認。\n",
      "康熙到達清涼寺，白衣尼九難前來行刺，韋小寶藉寶衣替康熙擋了九難一劍，自己卻被九難擄走。小寶花言巧語取得了九難信任，與九難潛入皇宮，得悉九難竟是前明長平公主。九難揭穿了太后原來是毛東珠假扮，真太后被她藏了起來。二人出宮，韋小寶發現阿珂竟是九難的徒弟，無奈阿珂卻傾情於台灣延平郡王鄭經的次子鄭克塽。\n",
      "韋小寶回宮後，將假太后的秘密告知康熙，兩人救出了真太后。韋小寶奉旨送建寧公主到雲南嫁給平西王世子吳應熊，途中卻被建寧誘惑而與其私通。抵達雲南後，建寧更將吳應熊弄成太監。此時九難派阿珂行刺吳三桂，失手被擒，而韋小寶從陳圓圓口中得知阿珂是她與李自成的女兒。最後吳三桂為九難所制，眾人終於脅持著吳應熊離開了雲南。\n",
      "返京後，康熙再派韋小寶出海剿滅神龍教，反\n",
      "\n",
      "\n"
     ]
    }
   ],
   "source": [
    "for i in range(min(3, len(all_splits))):\n",
    "    print(f\"--- Document {i+1} ---\")\n",
    "    print(all_splits[i].page_content[:500]) # Printing the first 500 characters\n",
    "    print(\"\\n\")"
   ]
  },
  {
   "cell_type": "code",
   "execution_count": 38,
   "id": "2d18e604-5a08-47ad-a0a5-174c840cfde0",
   "metadata": {},
   "outputs": [
    {
     "name": "stdout",
     "output_type": "stream",
     "text": [
      "[Document(id='77220522-d437-4f9e-b941-246640fcb5ed', metadata={'source': 'https://zh.wikipedia.org/zh-tw/%E9%B9%BF%E9%BC%8E%E8%AE%B0', 'start_index': 11828}, page_content='蘇荃\\n馬海倫\\n黃愷欣\\n林秀君\\n馮曉文\\n陳法蓉（龍兒）\\n胡可\\n張馨予\\n朱珠\\n\\n\\n建寧公主\\n梁翠紅\\n景黛音\\n鄭學琳\\n劉玉翠\\n林心如\\n舒暢\\n婁藝瀟\\n唐藝昕\\n\\n\\n曾柔\\n李海敏\\n吳君如\\n-\\n陳安琪\\n舒淇（小金魚）\\n李菲兒\\n王雅慧\\n鍾麗麗\\n\\n\\n阿珂\\n花居冠\\n商天娥\\n陳玉玫\\n梁小冰\\n朱茵\\n應采兒\\n賈青\\n郭泱\\n\\n\\n海大富\\n-\\n劉兆銘\\n陳慧樓\\n谷峰\\n吳孟達\\n華子\\n計春華\\n田雨\\n\\n\\n皇太后\\n-\\n呂有慧\\n胡錦\\n程可為\\n陳法蓉\\n高遠\\n米雪\\n王秀竹\\n\\n\\n鰲拜\\n-\\n關海山\\n林照雄\\n王俊棠\\n徐錦江\\n賴水清\\n劉天佐\\n\\n\\n多隆\\n-\\n許紹雄\\n-\\n艾威\\n黃一飛\\n胡東\\n劉永\\n劉超\\n\\n\\n九難\\n-\\n陳嘉儀\\n於文惠\\n李麗麗\\n李菲\\n何佳怡\\n王婉娟\\n李淑桐\\n\\n\\n鄭克塽\\n-\\n戴志偉\\n談學斌\\n郭耀明\\n鄭瑞曉\\n喬振宇\\n林江國\\n曾柯琅\\n\\n\\n馮錫范\\n-\\n葉天行\\n王圻生薛漢\\n郭德信\\n張春仲\\n于承惠\\n孟飛\\n王宏偉\\n\\n\\n吳三桂\\n-\\n劉丹\\n黃永光\\n王偉\\n張振寰\\n圖門\\n馮進高\\n于榮光\\n\\n\\n吳應熊\\n-\\n張志強\\n宋憲宏\\n戴志偉\\n卓凡\\n鍾亮\\n古斌\\n郭乙桓\\n\\n\\n洪安通\\n曹達華\\n陳有后\\n關洪\\n鮑方\\n陳觀泰\\n袁苑\\n盧勇\\n王德順\\n\\n\\n蘇菲亞公主\\n-\\n狄寶娜·摩亞\\n-\\n劉曉彤\\n佚名\\n凱瑞·貝里·布洛甘\\n-\\n-\\n\\n\\n茅十八\\n馬宗德\\n秦煌\\n劉林\\n秦煌\\n-\\n趙小銳\\n晉松\\n謝寧\\n\\n\\n韋春花\\n-\\n白茵\\n-\\n羅冠蘭\\n吳浣儀\\n馬羚\\n王琳\\n黃小蕾\\n\\n\\n李力世\\n-\\n談泉慶\\n-\\n-\\n-\\n-\\n-\\n-\\n\\n\\n關安基\\n-\\n關鍵\\n-\\n-\\n-\\n-\\n-\\n-\\n\\n\\n玄貞道人\\n-\\n吳業光\\n-\\n虞天偉\\n-\\n劉乃藝\\n-\\n張喜前\\n\\n\\n徐天川\\n-\\n白文彪\\n-\\n鄭藩生\\n高天昊\\n楊念生\\n劉長生\\n蕭岱青\\n\\n\\n風際中\\n梁日成\\n江毅\\n-\\n陳榮峻\\n趙中華\\n景崗山\\n-\\n王翊豪\\n\\n\\n錢老本\\n-\\n徐廣林\\n-\\n蔡國慶\\n薛文成\\n李明\\n-\\n寧小花\\n\\n\\n吳六奇\\n-\\n楊澤霖\\n-\\n李岡\\n-\\n-\\n-\\n-\\n\\n\\n索額圖\\n-\\n焦雄\\n唐復雄\\n羅浩楷\\n-\\n譚非翎\\n李慶祥\\n周帥\\n\\n\\n康親王\\n-\\n藍天\\n許文全\\n劉江\\n-\\n薛中銳\\n-\\n魏健隆\\n\\n\\n瑞棟\\n-\\n麥皓為\\n-\\n邵卓堯\\n-\\n袁明\\n-\\n-\\n\\n\\n張康年\\n-\\n梁鴻華\\n-\\n鄧英敏\\n-\\n劉曉虎\\n-\\n海洋\\n\\n\\n趙齊賢\\n-\\n楊炎棠\\n林耀宗\\n楊炎棠\\n-\\n-\\n-\\n-\\n\\n\\n小桂子\\n-\\n黃宗賜\\n-\\n伍文生\\n-\\n蘇彥\\n-\\n-\\n\\n\\n蕊初\\n-\\n劉淑儀\\n-\\n汪琳\\n-\\n孫鋰華\\n范彩兒\\n-'), Document(id='ca916d7a-358f-4886-b162-75573c5ad1a7', metadata={'source': 'https://zh.wikipedia.org/zh-tw/%E9%B9%BF%E9%BC%8E%E8%AE%B0', 'start_index': 2176}, page_content='韋小寶在通吃島上過了數年無憂無慮的逍遙日子，清廷相繼平定三藩之亂與台灣鄭氏政權，康熙三番兩次派人召回韋小寶。因韋小寶有去過羅剎國並幫助過蘇菲亞公主政變奪權，令其到東北出征羅剎國，以簽訂有利條約。事成後，知道小寶為天地會臥底的康熙開始用計逼小寶效忠，故意在聖旨中宣稱韋小寶殺害陳近南，引來天地會的會眾誤會，而小寶獲恩准回揚州探母，途中顧炎武等人來勸韋小寶率領起義反清。由於康熙與天地會已經鬧到都要逼韋小寶公開表態的地步，心煩意亂的韋小寶一怒之下決定將這些鳥事拋諸腦後，於是假裝全家遭到劫殺，攜了妻兒和母親到大理城隱居，兩不相幫不問世事。康熙不相信韋小寶輕易遇害，無奈屢次查訪均未果。\\n韋小寶向母親詢問自己父親是誰，韋春花說年輕時恩客頗多，漢滿蒙回藏都有，是標準的父不詳。'), Document(id='af78033b-3f49-4a51-8196-b55042620392', metadata={'source': 'https://zh.wikipedia.org/zh-tw/%E9%B9%BF%E9%BC%8E%E8%AE%B0', 'start_index': 1252}, page_content='康熙得知順治在清涼寺，為掩人耳目，先派韋小寶到少林寺出家。路上，韋小寶及眾侍衛遭王屋派偷襲，由此認識了少女曾柔，韋小寶藉寶刀寶衣反制王屋派，卻又借賭局將他們釋放。\\n韋小寶剃度後，在寺外遇到來少林寺挑釁的阿珂，深深為其美貌傾倒。韋小寶後來轉往清涼寺當住持，大批喇嘛再次圍攻清涼寺，小寶施計帶領眾人逃出，剛好遇上康熙率眾前來。眾喇嘛被擒，而康熙父子得以相認。\\n康熙到達清涼寺，白衣尼九難前來行刺，韋小寶藉寶衣替康熙擋了九難一劍，自己卻被九難擄走。小寶花言巧語取得了九難信任，與九難潛入皇宮，得悉九難竟是前明長平公主。九難揭穿了太后原來是毛東珠假扮，真太后被她藏了起來。二人出宮，韋小寶發現阿珂竟是九難的徒弟，無奈阿珂卻傾情於台灣延平郡王鄭經的次子鄭克塽。\\n韋小寶回宮後，將假太后的秘密告知康熙，兩人救出了真太后。韋小寶奉旨送建寧公主到雲南嫁給平西王世子吳應熊，途中卻被建寧誘惑而與其私通。抵達雲南後，建寧更將吳應熊弄成太監。此時九難派阿珂行刺吳三桂，失手被擒，而韋小寶從陳圓圓口中得知阿珂是她與李自成的女兒。最後吳三桂為九難所制，眾人終於脅持著吳應熊離開了雲南。\\n返京後，康熙再派韋小寶出海剿滅神龍教，反被教主洪安通施計擒住。韋小寶得雙兒暗中救走，二人向北逃遁，竟闖至羅剎國在鹿鼎山建築的雅克薩城，更隨蘇菲亞公主同赴莫斯科，並助其發動政變奪權。最後韋小寶帶回羅剎國特使與清朝修好。\\n康熙讓韋小寶衣錦還鄉，得以回揚州與母親韋春花重聚。韋小寶此行又成功替康熙攏落了西藏桑結和蒙古葛爾丹，更在麗春院把阿珂、雙兒、曾柔、方怡、沐劍屏、蘇荃等六女強暴在大被裡。回京途中遇到打算入宮行刺康熙的歸辛樹一家，韋小寶在天地會面前把皇宮佈局告訴了歸家，背後卻通報康熙加緊防衛，最後歸家三人力盡為宮中侍衛所殺。此時，康熙突然點破韋小寶在天地會的身份，並準備炮轟韋府，以殺天地會與沐家眾人。韋小寶藉建寧公主之助，逃脫並救出了眾人。\\n韋小寶再次被神龍教擒住，押回神龍島，豈料洪安通發現妻子蘇荃懷了韋小寶的孩子，為了掩飾，與神龍教中人互相殘殺致同歸於盡，祇得蘇荃倖免。大變後眾人轉往通吃島，台灣鄭家、天地會及施琅所領的大清水師先後追至。清廷水師被擊退後，陳近南為鄭克塽暗算身亡。'), Document(id='4cfb7f83-55f1-4b1e-9b0f-17d4f661f38d', metadata={'source': 'https://zh.wikipedia.org/zh-tw/%E9%B9%BF%E9%BC%8E%E8%AE%B0', 'start_index': 6086}, page_content='第二十八回\\n未免情多絲宛轉\\u3000為誰辛苦竅玲瓏\\n吳立身逼拜堂；寶珂成親；楊溢之裝蠻子；馮錫范救駕；回宮見康熙，計嫁建寧；揭穿假太后，肉團翻牆走；母子相見；一等子爵。\\n\\n\\n第二十九回\\n卷幔微風香忽到\\u3000瞰床新月雨初收\\n開棺取經；暗算陳近南；撒石灰；紅砂掌；康熙得知經書秘密；康親王求救；經送教主；獲贈子爵府；公主出嫁赴雲南；迷湯縛絆賜婚使。\\n\\n\\n第三十回\\n鎮將南朝偏跋扈\\u3000部兵西楚最輕剽\\n平西王迎駕；楊溢之遭毒手；計套罕帖摩；吳三桂勾結蒙藏羅剎神龍教；書房盜經；贈火槍。\\n\\n\\n第三十一回\\n羅甸一軍深壁壘\\u3000滇池千頃沸波濤\\n吳應熊救火遭閹；阿珂行刺吳三桂；催逼夏國相；誤救沐劍屏。\\n\\n\\n第三十二回\\n歌喉欲斷從弦續\\u3000舞袖能長聽客誇\\n庵堂會陳圓圓，訴母女身世；李自成現身；吳三桂圍庵；九難制賊；古往今來第一；李吳死拼；交易放人；阿珂怒去；沐王府甘拜下風。\\n\\n\\n第三十三回\\n誰無癇疾難相笑\\u3000各有風流兩不如\\n赤火堂報訊，家后堂接風；高手賭局；一劍無血，半劍有血；瘦頭陀鬥老叫化；李西華鬥李自成；鄉農鬥馮錫范；結拜胡逸之；掠阿珂而遁。\\n\\n\\n第三十四回\\n一紙興亡看復鹿\\u3000千年灰劫付冥鴻\\n縱放鄭克塽；江心披風雨；參見總舵主；林興珠說紅毛鬼；藏寶圖羊皮獻師父；吳六奇雙兒結拜；傳神行百變，九難不別而去；稟吳三桂勾結造反；審問罕帖摩；見南懷仁、湯若望；雙兒拼圖；試炮；命破神龍教，賜稱「巴圖魯」；施琅求見；施琅隨軍；傲慢大鬍子；坐鎮通吃島；救起瘦頭陀，說五龍門內鬥；進攻神龍島。\\n\\n\\n第三十五回\\n曾隨東西南北路\\u3000獨結冰霜雨雪緣\\n上船解方怡被擒；巧言騙教主；雙兒搭救；雪地北逃；抵達鹿鼎山。\\n\\n\\n第三十六回\\n犵鳥蠻花天萬里\\u3000朔雲邊雪路千盤\\n地道懷抱羅剎女；洪教主獻計取北京，說韋小寶來歷；隨赴莫斯科；西奧圖三世去世；彼得登位；蘇菲亞公主被囚；逼迫火槍營副隊長造反；搶錢搶女人；當女攝政王；伊凡、彼得並為沙皇。\\n\\n\\n第三十七回\\n轅門誰上平蠻策\\u3000朝議先頒諭蜀文\\n偕使臣回北京，與羅剎國修好；一等忠勇伯；三藩懇求撤藩；殿上群臣建議不許撤藩；暗示吳三桂造反；提拔趙良棟。\\n\\n\\n第三十八回\\n縱橫野馬群飛路\\u3000跋扈風箏一線天\\n吳應熊明賽馬，暗逃走事敗；收編張勇、王進寶及孫思克；奉旨赴揚州建造忠烈祠；司徒伯雷被殺；王屋派加盟；曾柔重敍。'), Document(id='a6f50243-f803-436a-a98b-879d538ceac4', metadata={'source': 'https://zh.wikipedia.org/zh-tw/%E9%B9%BF%E9%BC%8E%E8%AE%B0', 'start_index': 275}, page_content='故事梗概[編輯]\\n康熙初年，浙江富紳莊允誠遭革職知縣吳之榮舉報，告發其子所編《明史》中使用前明年號。權臣鰲拜即大興文字獄，莊家遭全家抄斬，更牽連有份編修，以至買賣此籍之民眾，這便是轟動全國的莊廷鑨明史案。\\n小說的主人公韋小寶成長於揚州妓院麗春院，母親韋春花是院內妓女。十二三歲的韋小寶救了越獄犯茅十八一命，茅十八誇口要上京與「滿洲第一勇士」鰲拜決鬥，韋小寶便隨他北上。\\n兩人在京城遭尚膳監總管海大富擒進宮中。韋小寶暗中將海大富毒盲，把服侍他的小太監小桂子殺死後，冒充為小桂子以應付眼盲的海大富，助茅十八脫身。韋小寶受海大富命令，在宮中找尋《四十二章經》，無意中結識了自稱「小玄子」的康熙皇帝及建寧公主，成為好友，更助康熙生擒鰲拜。海大富憑著小寶與康熙比武的招式，推敲出殺死康熙生母孝康章皇后，以及孝獻端敬皇后及其子榮親王等人的兇手正是太后，依照順治帝從前的命令，往取太后性命，激鬥後卻為太后所殺。而韋小寶從海大富與太后之間的對話中，得知康熙帝之父順治帝尚在人間。\\n韋小寶奉命去殺囚在康親王府中的鰲拜，竟遇上欲刺殺鰲拜的天地會一眾，韋小寶在混亂中殺死了鰲拜，之後被一眾天地會刺客擄走。天地會總舵主陳近南為平息誰人當上新任青木堂香主之爭論，以韋小寶殺死鰲拜為青木堂前任堂主復仇為由，收了韋小寶為徒，再讓他當上青木堂香主。之後天地會因南明正統問題與沐王府結怨，更把沐王府郡主沐劍屏綁走，送進韋小寶宮中住處收藏。韋小寶又救了沐劍屏的師姐、因入宮行刺康熙而受傷的方怡。太后欲殺韋小寶滅口，可是屢次派人對付不果。韋小寶既身處險境，原打算將海大富查得的秘密告知康熙後便偷走出宮，康熙反而派小寶到五台山打聽順治下落。韋小寶藉機將沐劍屏、方怡及其他失陷的沐王府刺客帶出宮外。\\n眾人在莊家避雨時，被與太后有不明關係的神龍教教眾擒下，韋小寶卻得在此隱居的明史案遺眷莊三少奶所救。莊三少奶為答謝韋小寶手刃了仇人鰲拜，把武功不俗的小丫頭雙兒相贈。\\n韋小寶在五台山清涼寺尋到出了家的順治帝，並告之海大富查出端敬皇后等人死亡之真相。此時喇嘛大舉來犯，幸得少林寺僧人及時出手阻止。韋小寶在回京覆旨途中，被方怡誘上神龍島，原來方怡、沐劍屏早已被逼入教。適逢神龍教內亂，韋小寶初識教主洪安通及教主夫人蘇荃，並剛巧協助他們將亂事擺平，於是成為神龍教中白龍使，奉命入宮繼續找尋《四十二章經》。')]\n"
     ]
    }
   ],
   "source": [
    "# Step 2: 把向量資料庫轉換為 retriever，並指定檢索參數\n",
    "retriever = vector_store.as_retriever(search_kwargs={\"k\": 5})\n",
    "query = \"誰是蘇菲亞公主\"\n",
    "docs = retriever.invoke(query)\n",
    "print(docs)\n",
    "#pretty_print_docs(docs)"
   ]
  },
  {
   "cell_type": "code",
   "execution_count": null,
   "id": "d590a999-4bae-4b7e-a364-d260af31bbf8",
   "metadata": {},
   "outputs": [],
   "source": [
    "from langchain.chains import create_retrieval_chain\n",
    "from langchain.chains.combine_documents import create_stuff_documents_chain\n",
    "from langchain_core.prompts import ChatPromptTemplate\n",
    "\n",
    "\n",
    "retriever = vector_store.as_retriever(search_kwargs={\"k\": 5})\n",
    "\n",
    "system_prompt = (\n",
    "    \"Use the given context to answer the question. \"\n",
    "    \"If you don't know the answer, say you don't know. \"\n",
    "    \"Use three sentence maximum and keep the answer concise. \"\n",
    "    \"Context: {context}\"\n",
    ")\n",
    "\n",
    "prompt = ChatPromptTemplate.from_messages(\n",
    "    [\n",
    "        (\"system\", system_prompt),\n",
    "        (\"human\", \"{input}\"),\n",
    "    ]\n",
    ")\n",
    "question_answer_chain = create_stuff_documents_chain(llm, prompt)\n",
    "chain = create_retrieval_chain(retriever, question_answer_chain)\n",
    "query = \"誰是蘇菲亞公主\"\n",
    "chain.invoke({\"input\": query})"
   ]
  },
  {
   "cell_type": "code",
   "execution_count": 40,
   "id": "b692ed01-b29d-4516-914d-f7cca5201af1",
   "metadata": {},
   "outputs": [
    {
     "name": "stdout",
     "output_type": "stream",
     "text": [
      "[Document(metadata={'source': 'https://zh.wikipedia.org/zh-tw/%E9%B9%BF%E9%BC%8E%E8%AE%B0', 'start_index': 2512, 'relevance_score': 0.5375269651412964}, page_content='人物介紹[編輯]\\n主條目：鹿鼎記角色列表\\n虛構人物[編輯]\\n\\n\\n\\n\\n主角：\\n\\n韋小寶\\n七名夫人：\\n\\n建寧公主\\n沐劍屏\\n方怡\\n雙兒\\n蘇荃\\n曾柔\\n阿珂\\n\\n\\n\\n\\n宮中：\\n\\n海大富\\n多隆\\n張康年\\n趙齊賢\\n蕊初\\n天地會青木堂：\\n\\n李力世\\n關安基\\n祁彪清\\n玄貞道人\\n徐天川\\n風際中\\n\\n\\n\\n\\n沐王府：\\n\\n方怡\\n沐劍聲\\n柳大洪\\n吳立身\\n劉一舟\\n神龍教：\\n\\n教主洪安通\\n假皇太后毛東珠\\n瘦頭陀\\n胖頭陀\\n陸高軒\\n\\n\\n\\n\\n其他：\\n\\n茅十八\\n韋春花\\n楊溢之\\n李西華\\n陶紅英\\n莊三少奶\\n晦聰\\n澄觀\\n阿琪\\n胡逸之\\n\\n\\n\\n\\n《碧血劍》：\\n\\n九難（長平公主）(《碧血劍》中的阿九)\\n馮難敵\\n歸辛樹\\n歸二娘\\n歸鍾\\n何惕守\\n\\n\\n\\n\\n歷史及傳說人物[編輯]\\n\\n\\n\\n\\n朝廷：\\n\\n康熙（「小玄子」）\\n孝莊文皇后\\n鰲拜\\n康親王\\n索額圖\\n行癡（順治帝）\\n皇太后\\n孝康章皇后\\n建寧公主\\n\\n\\n\\n\\n天地會：\\n\\n陳近南\\n吳六奇\\n台灣延平王府：\\n\\n鄭克塽\\n馮錫範\\n\\n\\n\\n\\n文士：\\n\\n呂留良\\n黃宗羲\\n顧炎武\\n查繼佐\\n明史案：\\n\\n莊允誠\\n莊廷鑨\\n吳之榮\\n\\n\\n\\n\\n其他：\\n\\n葛爾丹\\n桑結\\n吳三桂\\n吳應熊\\n陳圓圓\\n李自成\\n\\n\\n\\n\\n施琅\\n蘇菲亞公主\\n瓦西里·瓦西里耶維奇·戈里津\\n費岳多\\n趙良棟\\n張勇\\n王進寶\\n孫思克\\n\\n\\n《碧血劍》人物[編輯]\\n《鹿鼎記》一些人物，原先已在金庸另一部作品《碧血劍》出現，如九難、馮難敵父子、陳圓圓、李自成、歸辛樹一家、何惕守等。\\n\\n借用歷史[編輯]\\n《鹿鼎記》的故事發生在清初，牽涉清朝朝廷與宮室。由於《鹿鼎記》是小說而非史實，當中不少情節所觸及的歷史事件，都在金庸的大膽創作下，重新呈現在讀者眼前。\\n\\n明史案[編輯]\\n康熙初年鰲拜專權，曾大興文字獄。湖州莊家編撰的《明書輯略》（明史）因使用明朝年號，被吳之榮告發，觸發「莊廷鑨明史案」，牽連甚廣。\\n吳之榮後來在揚州遭韋小寶構陷與吳三桂勾結，被帶到明史案各家寡婦面前處死。\\n\\n提拔施琅[編輯]\\n施琅在京遭到投閒，得韋小寶提拔，方為康熙起用，後來才能擔任征臺司令，消滅南明（明鄭）。\\n韋小寶後來以危言威脅施琅帶他到臺灣，又指點施琅如何阻止朝廷棄守臺灣。'), Document(metadata={'source': 'https://zh.wikipedia.org/zh-tw/%E9%B9%BF%E9%BC%8E%E8%AE%B0', 'start_index': 1252, 'relevance_score': 0.4848678708076477}, page_content='康熙得知順治在清涼寺，為掩人耳目，先派韋小寶到少林寺出家。路上，韋小寶及眾侍衛遭王屋派偷襲，由此認識了少女曾柔，韋小寶藉寶刀寶衣反制王屋派，卻又借賭局將他們釋放。\\n韋小寶剃度後，在寺外遇到來少林寺挑釁的阿珂，深深為其美貌傾倒。韋小寶後來轉往清涼寺當住持，大批喇嘛再次圍攻清涼寺，小寶施計帶領眾人逃出，剛好遇上康熙率眾前來。眾喇嘛被擒，而康熙父子得以相認。\\n康熙到達清涼寺，白衣尼九難前來行刺，韋小寶藉寶衣替康熙擋了九難一劍，自己卻被九難擄走。小寶花言巧語取得了九難信任，與九難潛入皇宮，得悉九難竟是前明長平公主。九難揭穿了太后原來是毛東珠假扮，真太后被她藏了起來。二人出宮，韋小寶發現阿珂竟是九難的徒弟，無奈阿珂卻傾情於台灣延平郡王鄭經的次子鄭克塽。\\n韋小寶回宮後，將假太后的秘密告知康熙，兩人救出了真太后。韋小寶奉旨送建寧公主到雲南嫁給平西王世子吳應熊，途中卻被建寧誘惑而與其私通。抵達雲南後，建寧更將吳應熊弄成太監。此時九難派阿珂行刺吳三桂，失手被擒，而韋小寶從陳圓圓口中得知阿珂是她與李自成的女兒。最後吳三桂為九難所制，眾人終於脅持著吳應熊離開了雲南。\\n返京後，康熙再派韋小寶出海剿滅神龍教，反被教主洪安通施計擒住。韋小寶得雙兒暗中救走，二人向北逃遁，竟闖至羅剎國在鹿鼎山建築的雅克薩城，更隨蘇菲亞公主同赴莫斯科，並助其發動政變奪權。最後韋小寶帶回羅剎國特使與清朝修好。\\n康熙讓韋小寶衣錦還鄉，得以回揚州與母親韋春花重聚。韋小寶此行又成功替康熙攏落了西藏桑結和蒙古葛爾丹，更在麗春院把阿珂、雙兒、曾柔、方怡、沐劍屏、蘇荃等六女強暴在大被裡。回京途中遇到打算入宮行刺康熙的歸辛樹一家，韋小寶在天地會面前把皇宮佈局告訴了歸家，背後卻通報康熙加緊防衛，最後歸家三人力盡為宮中侍衛所殺。此時，康熙突然點破韋小寶在天地會的身份，並準備炮轟韋府，以殺天地會與沐家眾人。韋小寶藉建寧公主之助，逃脫並救出了眾人。\\n韋小寶再次被神龍教擒住，押回神龍島，豈料洪安通發現妻子蘇荃懷了韋小寶的孩子，為了掩飾，與神龍教中人互相殘殺致同歸於盡，祇得蘇荃倖免。大變後眾人轉往通吃島，台灣鄭家、天地會及施琅所領的大清水師先後追至。清廷水師被擊退後，陳近南為鄭克塽暗算身亡。'), Document(metadata={'source': 'https://zh.wikipedia.org/zh-tw/%E9%B9%BF%E9%BC%8E%E8%AE%B0', 'start_index': 11828, 'relevance_score': 0.43398144841194153}, page_content='蘇荃\\n馬海倫\\n黃愷欣\\n林秀君\\n馮曉文\\n陳法蓉（龍兒）\\n胡可\\n張馨予\\n朱珠\\n\\n\\n建寧公主\\n梁翠紅\\n景黛音\\n鄭學琳\\n劉玉翠\\n林心如\\n舒暢\\n婁藝瀟\\n唐藝昕\\n\\n\\n曾柔\\n李海敏\\n吳君如\\n-\\n陳安琪\\n舒淇（小金魚）\\n李菲兒\\n王雅慧\\n鍾麗麗\\n\\n\\n阿珂\\n花居冠\\n商天娥\\n陳玉玫\\n梁小冰\\n朱茵\\n應采兒\\n賈青\\n郭泱\\n\\n\\n海大富\\n-\\n劉兆銘\\n陳慧樓\\n谷峰\\n吳孟達\\n華子\\n計春華\\n田雨\\n\\n\\n皇太后\\n-\\n呂有慧\\n胡錦\\n程可為\\n陳法蓉\\n高遠\\n米雪\\n王秀竹\\n\\n\\n鰲拜\\n-\\n關海山\\n林照雄\\n王俊棠\\n徐錦江\\n賴水清\\n劉天佐\\n\\n\\n多隆\\n-\\n許紹雄\\n-\\n艾威\\n黃一飛\\n胡東\\n劉永\\n劉超\\n\\n\\n九難\\n-\\n陳嘉儀\\n於文惠\\n李麗麗\\n李菲\\n何佳怡\\n王婉娟\\n李淑桐\\n\\n\\n鄭克塽\\n-\\n戴志偉\\n談學斌\\n郭耀明\\n鄭瑞曉\\n喬振宇\\n林江國\\n曾柯琅\\n\\n\\n馮錫范\\n-\\n葉天行\\n王圻生薛漢\\n郭德信\\n張春仲\\n于承惠\\n孟飛\\n王宏偉\\n\\n\\n吳三桂\\n-\\n劉丹\\n黃永光\\n王偉\\n張振寰\\n圖門\\n馮進高\\n于榮光\\n\\n\\n吳應熊\\n-\\n張志強\\n宋憲宏\\n戴志偉\\n卓凡\\n鍾亮\\n古斌\\n郭乙桓\\n\\n\\n洪安通\\n曹達華\\n陳有后\\n關洪\\n鮑方\\n陳觀泰\\n袁苑\\n盧勇\\n王德順\\n\\n\\n蘇菲亞公主\\n-\\n狄寶娜·摩亞\\n-\\n劉曉彤\\n佚名\\n凱瑞·貝里·布洛甘\\n-\\n-\\n\\n\\n茅十八\\n馬宗德\\n秦煌\\n劉林\\n秦煌\\n-\\n趙小銳\\n晉松\\n謝寧\\n\\n\\n韋春花\\n-\\n白茵\\n-\\n羅冠蘭\\n吳浣儀\\n馬羚\\n王琳\\n黃小蕾\\n\\n\\n李力世\\n-\\n談泉慶\\n-\\n-\\n-\\n-\\n-\\n-\\n\\n\\n關安基\\n-\\n關鍵\\n-\\n-\\n-\\n-\\n-\\n-\\n\\n\\n玄貞道人\\n-\\n吳業光\\n-\\n虞天偉\\n-\\n劉乃藝\\n-\\n張喜前\\n\\n\\n徐天川\\n-\\n白文彪\\n-\\n鄭藩生\\n高天昊\\n楊念生\\n劉長生\\n蕭岱青\\n\\n\\n風際中\\n梁日成\\n江毅\\n-\\n陳榮峻\\n趙中華\\n景崗山\\n-\\n王翊豪\\n\\n\\n錢老本\\n-\\n徐廣林\\n-\\n蔡國慶\\n薛文成\\n李明\\n-\\n寧小花\\n\\n\\n吳六奇\\n-\\n楊澤霖\\n-\\n李岡\\n-\\n-\\n-\\n-\\n\\n\\n索額圖\\n-\\n焦雄\\n唐復雄\\n羅浩楷\\n-\\n譚非翎\\n李慶祥\\n周帥\\n\\n\\n康親王\\n-\\n藍天\\n許文全\\n劉江\\n-\\n薛中銳\\n-\\n魏健隆\\n\\n\\n瑞棟\\n-\\n麥皓為\\n-\\n邵卓堯\\n-\\n袁明\\n-\\n-\\n\\n\\n張康年\\n-\\n梁鴻華\\n-\\n鄧英敏\\n-\\n劉曉虎\\n-\\n海洋\\n\\n\\n趙齊賢\\n-\\n楊炎棠\\n林耀宗\\n楊炎棠\\n-\\n-\\n-\\n-\\n\\n\\n小桂子\\n-\\n黃宗賜\\n-\\n伍文生\\n-\\n蘇彥\\n-\\n-\\n\\n\\n蕊初\\n-\\n劉淑儀\\n-\\n汪琳\\n-\\n孫鋰華\\n范彩兒\\n-')]\n"
     ]
    }
   ],
   "source": [
    "query = \"誰是蘇菲亞公主\"\n",
    "# Step 2: 把向量資料庫轉換為 retriever，並指定檢索參數\n",
    "retriever = vector_store.as_retriever(search_kwargs={\"k\": 10})\n",
    "\n",
    "from langchain.retrievers import ContextualCompressionRetriever\n",
    "rerank_retriever = ContextualCompressionRetriever(\n",
    "    base_compressor=rerank, base_retriever=retriever\n",
    ")\n",
    "\n",
    "rerank_docs = rerank_retriever.invoke(query)\n",
    "print(rerank_docs)\n",
    "#pretty_print_docs(rerank_docs)"
   ]
  },
  {
   "cell_type": "code",
   "execution_count": 41,
   "id": "02f2ace2-0888-4075-afe2-7666079cc411",
   "metadata": {},
   "outputs": [
    {
     "data": {
      "text/plain": [
       "{'input': '誰是蘇菲亞公主',\n",
       " 'context': [Document(metadata={'source': 'https://zh.wikipedia.org/zh-tw/%E9%B9%BF%E9%BC%8E%E8%AE%B0', 'start_index': 2512, 'relevance_score': 0.5375269651412964}, page_content='人物介紹[編輯]\\n主條目：鹿鼎記角色列表\\n虛構人物[編輯]\\n\\n\\n\\n\\n主角：\\n\\n韋小寶\\n七名夫人：\\n\\n建寧公主\\n沐劍屏\\n方怡\\n雙兒\\n蘇荃\\n曾柔\\n阿珂\\n\\n\\n\\n\\n宮中：\\n\\n海大富\\n多隆\\n張康年\\n趙齊賢\\n蕊初\\n天地會青木堂：\\n\\n李力世\\n關安基\\n祁彪清\\n玄貞道人\\n徐天川\\n風際中\\n\\n\\n\\n\\n沐王府：\\n\\n方怡\\n沐劍聲\\n柳大洪\\n吳立身\\n劉一舟\\n神龍教：\\n\\n教主洪安通\\n假皇太后毛東珠\\n瘦頭陀\\n胖頭陀\\n陸高軒\\n\\n\\n\\n\\n其他：\\n\\n茅十八\\n韋春花\\n楊溢之\\n李西華\\n陶紅英\\n莊三少奶\\n晦聰\\n澄觀\\n阿琪\\n胡逸之\\n\\n\\n\\n\\n《碧血劍》：\\n\\n九難（長平公主）(《碧血劍》中的阿九)\\n馮難敵\\n歸辛樹\\n歸二娘\\n歸鍾\\n何惕守\\n\\n\\n\\n\\n歷史及傳說人物[編輯]\\n\\n\\n\\n\\n朝廷：\\n\\n康熙（「小玄子」）\\n孝莊文皇后\\n鰲拜\\n康親王\\n索額圖\\n行癡（順治帝）\\n皇太后\\n孝康章皇后\\n建寧公主\\n\\n\\n\\n\\n天地會：\\n\\n陳近南\\n吳六奇\\n台灣延平王府：\\n\\n鄭克塽\\n馮錫範\\n\\n\\n\\n\\n文士：\\n\\n呂留良\\n黃宗羲\\n顧炎武\\n查繼佐\\n明史案：\\n\\n莊允誠\\n莊廷鑨\\n吳之榮\\n\\n\\n\\n\\n其他：\\n\\n葛爾丹\\n桑結\\n吳三桂\\n吳應熊\\n陳圓圓\\n李自成\\n\\n\\n\\n\\n施琅\\n蘇菲亞公主\\n瓦西里·瓦西里耶維奇·戈里津\\n費岳多\\n趙良棟\\n張勇\\n王進寶\\n孫思克\\n\\n\\n《碧血劍》人物[編輯]\\n《鹿鼎記》一些人物，原先已在金庸另一部作品《碧血劍》出現，如九難、馮難敵父子、陳圓圓、李自成、歸辛樹一家、何惕守等。\\n\\n借用歷史[編輯]\\n《鹿鼎記》的故事發生在清初，牽涉清朝朝廷與宮室。由於《鹿鼎記》是小說而非史實，當中不少情節所觸及的歷史事件，都在金庸的大膽創作下，重新呈現在讀者眼前。\\n\\n明史案[編輯]\\n康熙初年鰲拜專權，曾大興文字獄。湖州莊家編撰的《明書輯略》（明史）因使用明朝年號，被吳之榮告發，觸發「莊廷鑨明史案」，牽連甚廣。\\n吳之榮後來在揚州遭韋小寶構陷與吳三桂勾結，被帶到明史案各家寡婦面前處死。\\n\\n提拔施琅[編輯]\\n施琅在京遭到投閒，得韋小寶提拔，方為康熙起用，後來才能擔任征臺司令，消滅南明（明鄭）。\\n韋小寶後來以危言威脅施琅帶他到臺灣，又指點施琅如何阻止朝廷棄守臺灣。'),\n",
       "  Document(metadata={'source': 'https://zh.wikipedia.org/zh-tw/%E9%B9%BF%E9%BC%8E%E8%AE%B0', 'start_index': 1252, 'relevance_score': 0.4848678708076477}, page_content='康熙得知順治在清涼寺，為掩人耳目，先派韋小寶到少林寺出家。路上，韋小寶及眾侍衛遭王屋派偷襲，由此認識了少女曾柔，韋小寶藉寶刀寶衣反制王屋派，卻又借賭局將他們釋放。\\n韋小寶剃度後，在寺外遇到來少林寺挑釁的阿珂，深深為其美貌傾倒。韋小寶後來轉往清涼寺當住持，大批喇嘛再次圍攻清涼寺，小寶施計帶領眾人逃出，剛好遇上康熙率眾前來。眾喇嘛被擒，而康熙父子得以相認。\\n康熙到達清涼寺，白衣尼九難前來行刺，韋小寶藉寶衣替康熙擋了九難一劍，自己卻被九難擄走。小寶花言巧語取得了九難信任，與九難潛入皇宮，得悉九難竟是前明長平公主。九難揭穿了太后原來是毛東珠假扮，真太后被她藏了起來。二人出宮，韋小寶發現阿珂竟是九難的徒弟，無奈阿珂卻傾情於台灣延平郡王鄭經的次子鄭克塽。\\n韋小寶回宮後，將假太后的秘密告知康熙，兩人救出了真太后。韋小寶奉旨送建寧公主到雲南嫁給平西王世子吳應熊，途中卻被建寧誘惑而與其私通。抵達雲南後，建寧更將吳應熊弄成太監。此時九難派阿珂行刺吳三桂，失手被擒，而韋小寶從陳圓圓口中得知阿珂是她與李自成的女兒。最後吳三桂為九難所制，眾人終於脅持著吳應熊離開了雲南。\\n返京後，康熙再派韋小寶出海剿滅神龍教，反被教主洪安通施計擒住。韋小寶得雙兒暗中救走，二人向北逃遁，竟闖至羅剎國在鹿鼎山建築的雅克薩城，更隨蘇菲亞公主同赴莫斯科，並助其發動政變奪權。最後韋小寶帶回羅剎國特使與清朝修好。\\n康熙讓韋小寶衣錦還鄉，得以回揚州與母親韋春花重聚。韋小寶此行又成功替康熙攏落了西藏桑結和蒙古葛爾丹，更在麗春院把阿珂、雙兒、曾柔、方怡、沐劍屏、蘇荃等六女強暴在大被裡。回京途中遇到打算入宮行刺康熙的歸辛樹一家，韋小寶在天地會面前把皇宮佈局告訴了歸家，背後卻通報康熙加緊防衛，最後歸家三人力盡為宮中侍衛所殺。此時，康熙突然點破韋小寶在天地會的身份，並準備炮轟韋府，以殺天地會與沐家眾人。韋小寶藉建寧公主之助，逃脫並救出了眾人。\\n韋小寶再次被神龍教擒住，押回神龍島，豈料洪安通發現妻子蘇荃懷了韋小寶的孩子，為了掩飾，與神龍教中人互相殘殺致同歸於盡，祇得蘇荃倖免。大變後眾人轉往通吃島，台灣鄭家、天地會及施琅所領的大清水師先後追至。清廷水師被擊退後，陳近南為鄭克塽暗算身亡。'),\n",
       "  Document(metadata={'source': 'https://zh.wikipedia.org/zh-tw/%E9%B9%BF%E9%BC%8E%E8%AE%B0', 'start_index': 11828, 'relevance_score': 0.43398144841194153}, page_content='蘇荃\\n馬海倫\\n黃愷欣\\n林秀君\\n馮曉文\\n陳法蓉（龍兒）\\n胡可\\n張馨予\\n朱珠\\n\\n\\n建寧公主\\n梁翠紅\\n景黛音\\n鄭學琳\\n劉玉翠\\n林心如\\n舒暢\\n婁藝瀟\\n唐藝昕\\n\\n\\n曾柔\\n李海敏\\n吳君如\\n-\\n陳安琪\\n舒淇（小金魚）\\n李菲兒\\n王雅慧\\n鍾麗麗\\n\\n\\n阿珂\\n花居冠\\n商天娥\\n陳玉玫\\n梁小冰\\n朱茵\\n應采兒\\n賈青\\n郭泱\\n\\n\\n海大富\\n-\\n劉兆銘\\n陳慧樓\\n谷峰\\n吳孟達\\n華子\\n計春華\\n田雨\\n\\n\\n皇太后\\n-\\n呂有慧\\n胡錦\\n程可為\\n陳法蓉\\n高遠\\n米雪\\n王秀竹\\n\\n\\n鰲拜\\n-\\n關海山\\n林照雄\\n王俊棠\\n徐錦江\\n賴水清\\n劉天佐\\n\\n\\n多隆\\n-\\n許紹雄\\n-\\n艾威\\n黃一飛\\n胡東\\n劉永\\n劉超\\n\\n\\n九難\\n-\\n陳嘉儀\\n於文惠\\n李麗麗\\n李菲\\n何佳怡\\n王婉娟\\n李淑桐\\n\\n\\n鄭克塽\\n-\\n戴志偉\\n談學斌\\n郭耀明\\n鄭瑞曉\\n喬振宇\\n林江國\\n曾柯琅\\n\\n\\n馮錫范\\n-\\n葉天行\\n王圻生薛漢\\n郭德信\\n張春仲\\n于承惠\\n孟飛\\n王宏偉\\n\\n\\n吳三桂\\n-\\n劉丹\\n黃永光\\n王偉\\n張振寰\\n圖門\\n馮進高\\n于榮光\\n\\n\\n吳應熊\\n-\\n張志強\\n宋憲宏\\n戴志偉\\n卓凡\\n鍾亮\\n古斌\\n郭乙桓\\n\\n\\n洪安通\\n曹達華\\n陳有后\\n關洪\\n鮑方\\n陳觀泰\\n袁苑\\n盧勇\\n王德順\\n\\n\\n蘇菲亞公主\\n-\\n狄寶娜·摩亞\\n-\\n劉曉彤\\n佚名\\n凱瑞·貝里·布洛甘\\n-\\n-\\n\\n\\n茅十八\\n馬宗德\\n秦煌\\n劉林\\n秦煌\\n-\\n趙小銳\\n晉松\\n謝寧\\n\\n\\n韋春花\\n-\\n白茵\\n-\\n羅冠蘭\\n吳浣儀\\n馬羚\\n王琳\\n黃小蕾\\n\\n\\n李力世\\n-\\n談泉慶\\n-\\n-\\n-\\n-\\n-\\n-\\n\\n\\n關安基\\n-\\n關鍵\\n-\\n-\\n-\\n-\\n-\\n-\\n\\n\\n玄貞道人\\n-\\n吳業光\\n-\\n虞天偉\\n-\\n劉乃藝\\n-\\n張喜前\\n\\n\\n徐天川\\n-\\n白文彪\\n-\\n鄭藩生\\n高天昊\\n楊念生\\n劉長生\\n蕭岱青\\n\\n\\n風際中\\n梁日成\\n江毅\\n-\\n陳榮峻\\n趙中華\\n景崗山\\n-\\n王翊豪\\n\\n\\n錢老本\\n-\\n徐廣林\\n-\\n蔡國慶\\n薛文成\\n李明\\n-\\n寧小花\\n\\n\\n吳六奇\\n-\\n楊澤霖\\n-\\n李岡\\n-\\n-\\n-\\n-\\n\\n\\n索額圖\\n-\\n焦雄\\n唐復雄\\n羅浩楷\\n-\\n譚非翎\\n李慶祥\\n周帥\\n\\n\\n康親王\\n-\\n藍天\\n許文全\\n劉江\\n-\\n薛中銳\\n-\\n魏健隆\\n\\n\\n瑞棟\\n-\\n麥皓為\\n-\\n邵卓堯\\n-\\n袁明\\n-\\n-\\n\\n\\n張康年\\n-\\n梁鴻華\\n-\\n鄧英敏\\n-\\n劉曉虎\\n-\\n海洋\\n\\n\\n趙齊賢\\n-\\n楊炎棠\\n林耀宗\\n楊炎棠\\n-\\n-\\n-\\n-\\n\\n\\n小桂子\\n-\\n黃宗賜\\n-\\n伍文生\\n-\\n蘇彥\\n-\\n-\\n\\n\\n蕊初\\n-\\n劉淑儀\\n-\\n汪琳\\n-\\n孫鋰華\\n范彩兒\\n-')],\n",
       " 'answer': '蘇菲亞是《鹿鼎記》中的羅剎國公主。韋小寶到達羅剎國後，蘇菲亞與他一同發動政變並奪得權力。蘇菲亞是真實歷史人物索菲亞·阿列克謝耶芙娜。'}"
      ]
     },
     "execution_count": 41,
     "metadata": {},
     "output_type": "execute_result"
    }
   ],
   "source": [
    "from langchain.chains import create_retrieval_chain\n",
    "from langchain.chains.combine_documents import create_stuff_documents_chain\n",
    "from langchain_core.prompts import ChatPromptTemplate\n",
    "\n",
    "\n",
    "retriever = vector_store.as_retriever(search_kwargs={\"k\": 1})\n",
    "\n",
    "system_prompt = (\n",
    "    \"Use the given context to answer the question. \"\n",
    "    \"If you don't know the answer, say you don't know. \"\n",
    "    \"Use three sentence maximum and keep the answer concise. \"\n",
    "    \"Context: {context}\"\n",
    ")\n",
    "\n",
    "prompt = ChatPromptTemplate.from_messages(\n",
    "    [\n",
    "        (\"system\", system_prompt),\n",
    "        (\"human\", \"{input}\"),\n",
    "    ]\n",
    ")\n",
    "question_answer_chain = create_stuff_documents_chain(llm, prompt)\n",
    "chain = create_retrieval_chain(rerank_retriever, question_answer_chain)\n",
    "query = \"誰是蘇菲亞公主\"\n",
    "chain.invoke({\"input\": query})"
   ]
  },
  {
   "cell_type": "markdown",
   "id": "8431ed68-6bcb-48f2-9fed-681b6161ea32",
   "metadata": {},
   "source": [
    "### 📘 回家作業：RAG（Retrieval-Augmented Generation）\n",
    "\n",
    "#### 📝 作業一：核心概念理解（30分）\n",
    "\n",
    "請簡要回答下列問題\n",
    "\n",
    "1. 請說明什麼是 RAG（Retrieval-Augmented Generation）？它與傳統的生成式語言模型有什麼不同？\n",
    "2. 在 RAG 架構中，`Retriever` 和 `Generator` 各自的角色是什麼？它們如何互相配合？\n",
    "3. 請說明 Embedding 的作用，以及為何要對文本進行向量化？\n",
    "\n",
    "---\n",
    "\n",
    "#### 🧑‍💻 作業二：實作練習（30分）\n",
    "\n",
    "請根據課堂提供的 notebook《08-rag.ipynb》完成以下項目：\n",
    "\n",
    "1. 嘗試將預設的資料集替換為你自己提供的任意一篇文章（可以是新聞、報導、科普等）。\n",
    "2. 重新跑過向量嵌入（embedding）、建立向量庫（Vector Store），並透過 RAG Pipeline 提出三個問題，觀察答案是否合理。\n",
    "3. 將你的文章及三個問答結果，整理為一個簡單的 Markdown 報告提交（附上截圖或輸出文字）。\n",
    "\n",
    "---\n",
    "\n",
    "#### 💡 作業三：應用場景發想（40分）\n",
    "\n",
    "請構思一個你認為適合使用 RAG 技術的應用情境，並回答以下問題：\n",
    "\n",
    "1. 你的應用要解決什麼問題？目標使用者是誰？\n",
    "2. 為什麼使用 RAG 比純 LLM 或資料庫查詢更有優勢？\n",
    "3. 在此情境中，你可能會蒐集什麼樣的資料做為知識庫？\n",
    "4. 比較不同LLM模型在此議題的能力比較\n",
    "\n",
    "\n"
   ]
  },
  {
   "cell_type": "code",
   "execution_count": null,
   "id": "9d8cd628-6277-4081-9057-f99c353960fe",
   "metadata": {},
   "outputs": [],
   "source": []
  }
 ],
 "metadata": {
  "kernelspec": {
   "display_name": "Python 3 (ipykernel)",
   "language": "python",
   "name": "python3"
  },
  "language_info": {
   "codemirror_mode": {
    "name": "ipython",
    "version": 3
   },
   "file_extension": ".py",
   "mimetype": "text/x-python",
   "name": "python",
   "nbconvert_exporter": "python",
   "pygments_lexer": "ipython3",
   "version": "3.11.12"
  }
 },
 "nbformat": 4,
 "nbformat_minor": 5
}
